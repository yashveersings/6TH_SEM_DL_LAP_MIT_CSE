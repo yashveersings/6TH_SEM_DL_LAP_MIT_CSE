{
  "nbformat": 4,
  "nbformat_minor": 0,
  "metadata": {
    "colab": {
      "provenance": [],
      "machine_shape": "hm",
      "gpuType": "A100"
    },
    "kernelspec": {
      "name": "python3",
      "display_name": "Python 3"
    },
    "language_info": {
      "name": "python"
    },
    "accelerator": "GPU"
  },
  "cells": [
    {
      "cell_type": "code",
      "execution_count": null,
      "metadata": {
        "colab": {
          "base_uri": "https://localhost:8080/"
        },
        "id": "8gPvYLT9B_9i",
        "outputId": "69a0674d-93cf-4820-f141-e249396ac270"
      },
      "outputs": [
        {
          "metadata": {
            "tags": null
          },
          "name": "stdout",
          "output_type": "stream",
          "text": [
            "Downloading http://yann.lecun.com/exdb/mnist/train-images-idx3-ubyte.gz\n",
            "Downloading http://yann.lecun.com/exdb/mnist/train-images-idx3-ubyte.gz to ./data/MNIST/raw/train-images-idx3-ubyte.gz\n"
          ]
        },
        {
          "metadata": {
            "tags": null
          },
          "name": "stderr",
          "output_type": "stream",
          "text": [
            "100%|██████████| 9912422/9912422 [00:00<00:00, 286568959.71it/s]\n"
          ]
        },
        {
          "metadata": {
            "tags": null
          },
          "name": "stdout",
          "output_type": "stream",
          "text": [
            "Extracting ./data/MNIST/raw/train-images-idx3-ubyte.gz to ./data/MNIST/raw\n",
            "\n",
            "Downloading http://yann.lecun.com/exdb/mnist/train-labels-idx1-ubyte.gz\n",
            "Downloading http://yann.lecun.com/exdb/mnist/train-labels-idx1-ubyte.gz to ./data/MNIST/raw/train-labels-idx1-ubyte.gz\n"
          ]
        },
        {
          "metadata": {
            "tags": null
          },
          "name": "stderr",
          "output_type": "stream",
          "text": [
            "100%|██████████| 28881/28881 [00:00<00:00, 23130741.61it/s]\n"
          ]
        },
        {
          "metadata": {
            "tags": null
          },
          "name": "stdout",
          "output_type": "stream",
          "text": [
            "Extracting ./data/MNIST/raw/train-labels-idx1-ubyte.gz to ./data/MNIST/raw\n",
            "\n",
            "Downloading http://yann.lecun.com/exdb/mnist/t10k-images-idx3-ubyte.gz\n",
            "Downloading http://yann.lecun.com/exdb/mnist/t10k-images-idx3-ubyte.gz to ./data/MNIST/raw/t10k-images-idx3-ubyte.gz\n"
          ]
        },
        {
          "metadata": {
            "tags": null
          },
          "name": "stderr",
          "output_type": "stream",
          "text": [
            "100%|██████████| 1648877/1648877 [00:00<00:00, 118742018.73it/s]"
          ]
        },
        {
          "metadata": {
            "tags": null
          },
          "name": "stdout",
          "output_type": "stream",
          "text": [
            "Extracting ./data/MNIST/raw/t10k-images-idx3-ubyte.gz to ./data/MNIST/raw\n",
            "\n",
            "Downloading http://yann.lecun.com/exdb/mnist/t10k-labels-idx1-ubyte.gz\n"
          ]
        },
        {
          "metadata": {
            "tags": null
          },
          "name": "stderr",
          "output_type": "stream",
          "text": [
            "\n"
          ]
        },
        {
          "metadata": {
            "tags": null
          },
          "name": "stdout",
          "output_type": "stream",
          "text": [
            "Downloading http://yann.lecun.com/exdb/mnist/t10k-labels-idx1-ubyte.gz to ./data/MNIST/raw/t10k-labels-idx1-ubyte.gz\n"
          ]
        },
        {
          "metadata": {
            "tags": null
          },
          "name": "stderr",
          "output_type": "stream",
          "text": [
            "100%|██████████| 4542/4542 [00:00<00:00, 5870733.06it/s]\n"
          ]
        },
        {
          "output_type": "stream",
          "name": "stdout",
          "text": [
            "Extracting ./data/MNIST/raw/t10k-labels-idx1-ubyte.gz to ./data/MNIST/raw\n",
            "\n",
            "epoch=  1  error:  2.2982987076441446\n",
            "epoch=  2  error:  2.2229804660161334\n",
            "epoch=  3  error:  1.4355088044385116\n",
            "epoch=  4  error:  0.6730265868614117\n",
            "epoch=  5  error:  0.4050095774662991\n",
            "epoch=  6  error:  0.2964132331351439\n",
            "epoch=  7  error:  0.2383039150017003\n",
            "epoch=  8  error:  0.20221605622594555\n",
            "epoch=  9  error:  0.17617948060197136\n",
            "epoch=  10  error:  0.15748407102115453\n"
          ]
        }
      ],
      "source": [
        "import torch\n",
        "import torch.nn as nn\n",
        "from torch.utils.data import DataLoader,Dataset\n",
        "import torchvision.datasets as datasets\n",
        "from torchvision.transforms import ToTensor\n",
        "\n",
        "device=('cuda' if torch.cuda.is_available() else 'cpu')\n",
        "batch_size=4\n",
        "\n",
        "train_set=datasets.MNIST(root='./data',train=True,download=True,transform=ToTensor())\n",
        "test_set=datasets.MNIST(root='./data',train=False,download=True,transform=ToTensor())\n",
        "\n",
        "train_loader=DataLoader(train_set,shuffle=True,batch_size=batch_size)\n",
        "test_loader=DataLoader(test_set,shuffle=False,batch_size=batch_size)\n",
        "\n",
        "class CNNMnist(nn.Module):\n",
        "    def __init__(self):\n",
        "        super(CNNMnist,self).__init__()\n",
        "        self.net=nn.Sequential(\n",
        "            nn.Conv2d(1,64,kernel_size=3),\n",
        "            nn.ReLU(),\n",
        "            nn.MaxPool2d((2,2),stride=2),#13x13x128\n",
        "            nn.Conv2d(64,128,kernel_size=3),\n",
        "            nn.ReLU(),\n",
        "            nn.MaxPool2d((2,2),stride=2),#5x5x128\n",
        "            nn.Conv2d(128,64,kernel_size=3),\n",
        "            nn.ReLU(),\n",
        "            nn.MaxPool2d((2,2),stride=2)\n",
        "        )\n",
        "        self.classification_head=nn.Sequential(\n",
        "            nn.Linear(64,20,bias=True),\n",
        "            nn.Sigmoid(),\n",
        "            nn.Linear(20,10,bias=True)\n",
        "        )\n",
        "    def forward(self,x):\n",
        "        features=self.net(x)\n",
        "        x=self.classification_head(features.view(batch_size,-1))\n",
        "        return x\n",
        "\n",
        "model=CNNMnist().to(device)\n",
        "optimizer=torch.optim.SGD(model.parameters(),lr=0.001)\n",
        "loss_fn=nn.CrossEntropyLoss()\n",
        "\n",
        "def train_one_epoch():\n",
        "    total_loss=0\n",
        "    for i,data in enumerate(train_loader):\n",
        "        input,label=data\n",
        "        input,label=input.to(device),label.to(device)\n",
        "        optimizer.zero_grad()\n",
        "        output=model(input)\n",
        "        loss=loss_fn(output,label)\n",
        "        loss.backward()\n",
        "        optimizer.step()\n",
        "        total_loss+=loss.item()\n",
        "    return total_loss/len(train_loader)\n",
        "\n",
        "epochs=10\n",
        "\n",
        "for i in range(epochs):\n",
        "    model.train(True)\n",
        "    res=train_one_epoch()\n",
        "    print('epoch= ',i+1,' error: ',res)\n",
        "\n"
      ]
    },
    {
      "cell_type": "code",
      "source": [
        "success=0\n",
        "count=0\n",
        "for i,(input,label) in enumerate(test_loader):\n",
        "  input=input.to(device)\n",
        "  label=label.to(device)\n",
        "  output=model(input)\n",
        "  _,predicted=torch.max(output,1)\n",
        "  count+=label.size(0)\n",
        "  success+=(predicted==label).sum()\n",
        "print(success/count*100)"
      ],
      "metadata": {
        "colab": {
          "base_uri": "https://localhost:8080/"
        },
        "id": "qrkIDSIgEiuk",
        "outputId": "a43c87ba-dd9c-41f9-ebc4-ed616a8c079b"
      },
      "execution_count": null,
      "outputs": [
        {
          "output_type": "stream",
          "name": "stdout",
          "text": [
            "tensor(96.5000, device='cuda:0')\n"
          ]
        }
      ]
    },
    {
      "cell_type": "code",
      "source": [
        "import torch\n",
        "import torch.nn as nn\n",
        "from torch.utils.data import DataLoader,Dataset\n",
        "import torchvision.datasets as datasets\n",
        "from torchvision.transforms import ToTensor\n",
        "import matplotlib.pyplot as plt\n",
        "\n",
        "device=('cuda' if torch.cuda.is_available() else 'cpu')\n",
        "batch_size=4\n",
        "\n",
        "train_set=datasets.MNIST(root='./data',transform=ToTensor(),train=True,download=True)\n",
        "test_set=datasets.MNIST(root='./data',transform=ToTensor(),train=False,download=True)\n",
        "\n",
        "\n",
        "train_loader=DataLoader(train_set,batch_size=batch_size,shuffle=True)\n",
        "test_loader=DataLoader(test_set,batch_size=batch_size,shuffle=False)\n",
        "\n",
        "class CNNModel(nn.Module):\n",
        "  def __init__(self):\n",
        "    super(CNNModel,self).__init__()\n",
        "    self.net=nn.Sequential(\n",
        "        nn.Conv2d(1,64,kernel_size=3),\n",
        "        nn.ReLU(),\n",
        "        nn.MaxPool2d((2,2),stride=2),\n",
        "        nn.Conv2d(64,128,kernel_size=3),\n",
        "        nn.ReLU(),\n",
        "        nn.MaxPool2d((2,2),stride=2),\n",
        "        nn.Conv2d(128,64,kernel_size=3),\n",
        "        nn.ReLU(),\n",
        "        nn.MaxPool2d((2,2),stride=2)\n",
        "    )\n",
        "    self.classification_head=nn.Sequential(\n",
        "        nn.Linear(64,20,bias=True),\n",
        "        nn.Sigmoid(),\n",
        "        nn.Linear(20,10,bias=True)\n",
        "    )\n",
        "  def forward(self,x):\n",
        "    feature=self.net(x)\n",
        "    x=self.classification_head(feature.view(batch_size,-1))\n",
        "    return x\n",
        "\n",
        "\n",
        "model=CNNModel().to(device)\n",
        "optimizer=torch.optim.SGD(model.parameters(),lr=0.001)\n",
        "loss_fn=nn.CrossEntropyLoss()\n",
        "\n",
        "def train_one_epoch():\n",
        "  total_loss=0\n",
        "  for i,(input,label) in enumerate(train_loader):\n",
        "    input=input.to(device)\n",
        "    label=label.to(device)\n",
        "    optimizer.zero_grad()\n",
        "    output=model(input)\n",
        "    loss=loss_fn(output,label)\n",
        "    loss.backward()\n",
        "    optimizer.step()\n",
        "    total_loss+=loss.item()\n",
        "  return total_loss/len(train_loader)\n",
        "\n",
        "for i in range(10):\n",
        "  model.train()\n",
        "  res=train_one_epoch()\n",
        "  model.eval()\n",
        "  print(res)\n"
      ],
      "metadata": {
        "colab": {
          "base_uri": "https://localhost:8080/"
        },
        "id": "QuEAI_aEF1KK",
        "outputId": "9b1a23b0-d33d-4c38-ad64-5cfa93ee19e7"
      },
      "execution_count": null,
      "outputs": [
        {
          "output_type": "stream",
          "name": "stdout",
          "text": [
            "2.2980764725208283\n",
            "2.231238443684578\n",
            "1.4751570805410543\n",
            "0.7578671388606231\n",
            "0.4664615522533655\n",
            "0.3344663819178939\n",
            "0.2636742242902517\n",
            "0.2202937032810102\n",
            "0.19076396482313673\n",
            "0.1676775827517112\n"
          ]
        }
      ]
    },
    {
      "cell_type": "code",
      "source": [
        "count=0\n",
        "correct=0\n",
        "for i,(input,label) in enumerate(test_loader):\n",
        "  input=input.to(device)\n",
        "  label=label.to(device)\n",
        "  output=model(input)\n",
        "  _,predicted=torch.max(output,1)\n",
        "  count+=label.size(0)\n",
        "  correct+=(predicted==label).sum()\n",
        "\n",
        "print(correct/count*100)\n",
        "\n",
        "\n",
        "print([p.numel() for p in model.parameters() if p.requires_grad])\n"
      ],
      "metadata": {
        "colab": {
          "base_uri": "https://localhost:8080/"
        },
        "id": "bcHg1MOXH3_4",
        "outputId": "c3b14fa0-53e4-4d4e-cfbc-3a8d4bba6635"
      },
      "execution_count": null,
      "outputs": [
        {
          "output_type": "stream",
          "name": "stdout",
          "text": [
            "tensor(96.4000, device='cuda:0')\n",
            "[576, 64, 73728, 128, 73728, 64, 1280, 20, 200, 10]\n"
          ]
        }
      ]
    },
    {
      "cell_type": "code",
      "source": [],
      "metadata": {
        "id": "qeTELhTJHr-q",
        "outputId": "e992e3da-df8b-4dda-ebe1-7820ef8833c4",
        "colab": {
          "base_uri": "https://localhost:8080/"
        }
      },
      "execution_count": null,
      "outputs": [
        {
          "output_type": "stream",
          "name": "stdout",
          "text": [
            "Overall Team Accuracy (Weighted MAPE): 6684067.15%\n"
          ]
        }
      ]
    },
    {
      "cell_type": "code",
      "source": [],
      "metadata": {
        "id": "Kg0mFHy6nTiz"
      },
      "execution_count": null,
      "outputs": []
    },
    {
      "cell_type": "code",
      "source": [],
      "metadata": {
        "id": "bLwLU7ycHqB6"
      },
      "execution_count": null,
      "outputs": []
    },
    {
      "cell_type": "code",
      "source": [],
      "metadata": {
        "id": "espw_YzVHoyE"
      },
      "execution_count": null,
      "outputs": []
    },
    {
      "cell_type": "code",
      "source": [],
      "metadata": {
        "id": "RIhh6oRNHmfD"
      },
      "execution_count": null,
      "outputs": []
    },
    {
      "cell_type": "code",
      "source": [],
      "metadata": {
        "id": "AAGu9Fz2Hkpf"
      },
      "execution_count": null,
      "outputs": []
    },
    {
      "cell_type": "code",
      "source": [],
      "metadata": {
        "id": "9QOZaOjjHiU2"
      },
      "execution_count": null,
      "outputs": []
    },
    {
      "cell_type": "code",
      "source": [],
      "metadata": {
        "id": "w7q1OSiOHdHz"
      },
      "execution_count": null,
      "outputs": []
    }
  ]
}