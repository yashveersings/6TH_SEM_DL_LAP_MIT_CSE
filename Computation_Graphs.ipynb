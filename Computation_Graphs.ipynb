{
  "nbformat": 4,
  "nbformat_minor": 0,
  "metadata": {
    "colab": {
      "provenance": []
    },
    "kernelspec": {
      "name": "python3",
      "display_name": "Python 3"
    },
    "language_info": {
      "name": "python"
    }
  },
  "cells": [
    {
      "cell_type": "code",
      "execution_count": 10,
      "metadata": {
        "colab": {
          "base_uri": "https://localhost:8080/"
        },
        "id": "O8e8aCqUUB13",
        "outputId": "87689dba-61e9-4f36-980c-601fdad33f83"
      },
      "outputs": [
        {
          "output_type": "stream",
          "name": "stdout",
          "text": [
            "tensor([-0.0974])\n"
          ]
        }
      ],
      "source": [
        "# f= exp(-x**2-2x-sin(x))\n",
        "import torch\n",
        "import torch\n",
        "x=torch.tensor([1.0],requires_grad=True)\n",
        "a=(x**2)\n",
        "a.retain_grad()\n",
        "b=-a\n",
        "b.retain_grad()\n",
        "c=-2*x\n",
        "c.retain_grad()\n",
        "d=-(torch.sin(x))\n",
        "d.retain_grad()\n",
        "e=b+c+d\n",
        "e.retain_grad()\n",
        "f=torch.exp(e)\n",
        "f.retain_grad()\n",
        "f.backward()\n",
        "print(x.grad)\n",
        "\n"
      ]
    },
    {
      "cell_type": "code",
      "source": [
        "f=torch.exp(-x**2-2*x-torch.sin(x))\n",
        "f.backward()\n",
        "x.grad"
      ],
      "metadata": {
        "colab": {
          "base_uri": "https://localhost:8080/"
        },
        "id": "1RunPUrSWoGp",
        "outputId": "b1fca061-e2ba-4410-9fb0-9d55c5b8bea6"
      },
      "execution_count": 12,
      "outputs": [
        {
          "output_type": "execute_result",
          "data": {
            "text/plain": [
              "tensor([-0.2923])"
            ]
          },
          "metadata": {},
          "execution_count": 12
        }
      ]
    },
    {
      "cell_type": "code",
      "source": [],
      "metadata": {
        "id": "e4LMQ8egXACZ"
      },
      "execution_count": null,
      "outputs": []
    },
    {
      "cell_type": "code",
      "source": [],
      "metadata": {
        "id": "mTkBwobUW-Pt"
      },
      "execution_count": null,
      "outputs": []
    },
    {
      "cell_type": "code",
      "source": [],
      "metadata": {
        "id": "a4_eWa6xWOgV"
      },
      "execution_count": null,
      "outputs": []
    },
    {
      "cell_type": "code",
      "source": [],
      "metadata": {
        "id": "NuyMNDeTWM_R"
      },
      "execution_count": null,
      "outputs": []
    },
    {
      "cell_type": "code",
      "source": [],
      "metadata": {
        "id": "St27KgxtV-2c"
      },
      "execution_count": null,
      "outputs": []
    },
    {
      "cell_type": "code",
      "source": [],
      "metadata": {
        "id": "LrPy8avoU_QY"
      },
      "execution_count": null,
      "outputs": []
    },
    {
      "cell_type": "code",
      "source": [],
      "metadata": {
        "id": "Ti8wgyS8U9KI"
      },
      "execution_count": null,
      "outputs": []
    },
    {
      "cell_type": "code",
      "source": [],
      "metadata": {
        "id": "z9nNvaVUU3aX"
      },
      "execution_count": null,
      "outputs": []
    },
    {
      "cell_type": "code",
      "source": [],
      "metadata": {
        "id": "NyKANAiSU02s"
      },
      "execution_count": null,
      "outputs": []
    },
    {
      "cell_type": "code",
      "source": [],
      "metadata": {
        "id": "YQ5RwOxdUzFs"
      },
      "execution_count": null,
      "outputs": []
    },
    {
      "cell_type": "code",
      "source": [],
      "metadata": {
        "id": "R9OIphIjUl3n"
      },
      "execution_count": null,
      "outputs": []
    }
  ]
}