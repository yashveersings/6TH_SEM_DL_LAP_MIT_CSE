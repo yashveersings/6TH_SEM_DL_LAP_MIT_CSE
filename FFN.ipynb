{
  "nbformat": 4,
  "nbformat_minor": 0,
  "metadata": {
    "colab": {
      "provenance": [],
      "gpuType": "T4"
    },
    "kernelspec": {
      "name": "python3",
      "display_name": "Python 3"
    },
    "language_info": {
      "name": "python"
    },
    "accelerator": "GPU"
  },
  "cells": [
    {
      "cell_type": "code",
      "source": [
        "import torch\n",
        "import torch.nn as nn\n",
        "from torch.utils.data import DataLoader,Dataset,random_split\n",
        "\n",
        "device=('cuda' if torch.cuda.is_available() else 'cpu')\n",
        "\n",
        "class mydataset(Dataset):\n",
        "  def __init__(self,x,y):\n",
        "    self.x=x\n",
        "    self.y=y\n",
        "  def __len__(self):\n",
        "    return(len(self.x))\n",
        "  def __getitem__(self,idx):\n",
        "    return x[idx].to(device),y[idx].to(device)\n",
        "\n",
        "x=torch.tensor([[0,0],[1,0],[0,1],[1,1]],dtype=torch.float32,device=device)\n",
        "y=torch.tensor([0,1,1,0],dtype=torch.float32,device=device)\n",
        "\n",
        "dataset=mydataset(x,y)\n",
        "train_data=DataLoader(dataset,batch_size=1,shuffle=True)\n",
        "\n",
        "class XORModel(nn.Module):\n",
        "  def __init__(self):\n",
        "    super(XORModel,self).__init__()\n",
        "    self.linear1=nn.Linear(2,2,bias=True)\n",
        "    self.activation1=nn.Sigmoid()\n",
        "    self.linear2=nn.Linear(2,1,bias=True)\n",
        "  def forward(self,x):\n",
        "    x=self.linear1(x)\n",
        "    x=self.activation1(x)\n",
        "    x=self.linear2(x)\n",
        "    return x\n",
        "\n",
        "model=XORModel().to(device)\n",
        "optimizer=torch.optim.SGD(model.parameters(),lr=0.03)\n",
        "loss_fn=nn.MSELoss()\n",
        "\n",
        "def train_one_epoch():\n",
        "  total_loss=0\n",
        "  for i,data in enumerate(train_data):\n",
        "    input,label=data\n",
        "    optimizer.zero_grad()\n",
        "    output=model(input)\n",
        "    loss=loss_fn(output,label)\n",
        "    loss.backward()\n",
        "    optimizer.step()\n",
        "    total_loss+=loss.item()\n",
        "  return total_loss\n",
        "\n",
        "for i in range(50):\n",
        "  model.train(True)\n",
        "  res=train_one_epoch()\n",
        "\n",
        "input=torch.tensor([1,0],dtype=torch.float32,device=device)\n",
        "model.eval()\n",
        "print(model(input))"
      ],
      "metadata": {
        "id": "e7MfPwcVFdow",
        "colab": {
          "base_uri": "https://localhost:8080/"
        },
        "outputId": "f594e54c-9742-49c0-d391-bc7071d48f8b"
      },
      "execution_count": 2,
      "outputs": [
        {
          "output_type": "stream",
          "name": "stdout",
          "text": [
            "tensor([0.5055], device='cuda:0', grad_fn=<ViewBackward0>)\n"
          ]
        }
      ]
    },
    {
      "cell_type": "markdown",
      "source": [
        "**MNIST**\n",
        "\n",
        "Implement Feed Forward Neural Network with two hidden layers for classifying\n",
        "handwritten digits using MNIST dataset. Display the classification accuracy in the form\n",
        "of a Confusion matrix. Verify the number of learnable parameters in the model."
      ],
      "metadata": {
        "id": "PkLDej3L9u-R"
      }
    },
    {
      "cell_type": "code",
      "source": [
        "import torch\n",
        "import torch.nn as nn\n",
        "from torch.utils.data import DataLoader,Dataset,random_split\n",
        "import torchvision.datasets as datasets\n",
        "from torchvision.transforms import ToTensor\n",
        "\n",
        "device=('cuda' if torch.cuda.is_available() else 'cpu')\n",
        "\n",
        "train_set=datasets.MNIST(root='./data',transform=ToTensor(),train=True,download=True)\n",
        "test_set=datasets.MNIST(root='/data',transform=ToTensor(),train=False,download=True)\n",
        "\n",
        "train_loader=DataLoader(train_set,batch_size=4,shuffle=True)\n",
        "test_loader=DataLoader(test_set,batch_size=4,shuffle=False)\n",
        "\n",
        "import matplotlib.pyplot as plt\n",
        "images,label=next(iter(train_loader))\n",
        "plt.imshow(images[0].reshape(28,28),cmap='gray')\n",
        "\n"
      ],
      "metadata": {
        "colab": {
          "base_uri": "https://localhost:8080/",
          "height": 447
        },
        "id": "ANtNdi9g9X1C",
        "outputId": "3e5c9fe4-2302-4f8c-9b99-12a3ca22d94d"
      },
      "execution_count": null,
      "outputs": [
        {
          "output_type": "execute_result",
          "data": {
            "text/plain": [
              "<matplotlib.image.AxesImage at 0x7ff670195b40>"
            ]
          },
          "metadata": {},
          "execution_count": 53
        },
        {
          "output_type": "display_data",
          "data": {
            "text/plain": [
              "<Figure size 640x480 with 1 Axes>"
            ],
            "image/png": "[encoded data removed]"
          },
          "metadata": {}
        }
      ]
    },
    {
      "cell_type": "code",
      "source": [
        "print(train_set.data.size())\n",
        "print(test_set.data.size())"
      ],
      "metadata": {
        "colab": {
          "base_uri": "https://localhost:8080/"
        },
        "id": "IPR0wZsrF299",
        "outputId": "c560f073-8e06-4eab-fede-4f81187e2e2c"
      },
      "execution_count": null,
      "outputs": [
        {
          "output_type": "stream",
          "name": "stdout",
          "text": [
            "torch.Size([60000, 28, 28])\n",
            "torch.Size([10000, 28, 28])\n"
          ]
        }
      ]
    },
    {
      "cell_type": "code",
      "source": [
        "class MNISTClassifier(nn.Module):\n",
        "  def __init__(self):\n",
        "    super(MNISTClassifier,self).__init__()\n",
        "    self.net=nn.Sequential(\n",
        "        nn.Linear(784,100,bias=True),\n",
        "        nn.ReLU(),\n",
        "        nn.Linear(100,100,bias=True),\n",
        "        nn.ReLU(),\n",
        "        nn.Linear(100,10,bias=True)\n",
        "    )\n",
        "  def forward(self,x):\n",
        "    return self.net(x)\n",
        "\n",
        "model=MNISTClassifier().to(device)\n",
        "optimizer=torch.optim.SGD(model.parameters(),lr=0.001)\n",
        "loss_fn=nn.CrossEntropyLoss()"
      ],
      "metadata": {
        "id": "g6KPZgP2FipL"
      },
      "execution_count": null,
      "outputs": []
    },
    {
      "cell_type": "code",
      "source": [
        "batch_size=4\n",
        "def train_one_epoch():\n",
        "  total_loss=0\n",
        "  for i,data in enumerate(train_loader):\n",
        "    input,label=data\n",
        "    input,label=input.to(device),label.to(device)\n",
        "    optimizer.zero_grad()\n",
        "    output=model(input.view(batch_size,-1))\n",
        "    loss=loss_fn(output,label)\n",
        "    loss.backward()\n",
        "    optimizer.step()\n",
        "    total_loss+=loss.item()\n",
        "  return total_loss/len(train_loader)\n",
        "\n",
        "for i in range(10):\n",
        "  res=train_one_epoch()\n",
        "  print('epoch: ',i+1,' ',res)\n",
        "\n"
      ],
      "metadata": {
        "colab": {
          "base_uri": "https://localhost:8080/"
        },
        "id": "oWlENm7QJNcS",
        "outputId": "775d5aed-7ae7-4ece-8053-ece45c464a29"
      },
      "execution_count": null,
      "outputs": [
        {
          "output_type": "stream",
          "name": "stdout",
          "text": [
            "epoch:  1   0.3465537469379138\n",
            "epoch:  2   0.3029878314390099\n",
            "epoch:  3   0.27360315602275853\n",
            "epoch:  4   0.24983438932771873\n",
            "epoch:  5   0.22946537589872992\n",
            "epoch:  6   0.21162894695261106\n",
            "epoch:  7   0.19527318102797145\n",
            "epoch:  8   0.18068350385828913\n",
            "epoch:  9   0.16810585662222582\n",
            "epoch:  10   0.15626208721320534\n"
          ]
        }
      ]
    },
    {
      "cell_type": "code",
      "source": [
        "correct=0\n",
        "total=0\n",
        "for i, data in enumerate(train_loader):\n",
        "  input,label=data\n",
        "  input,label=input.to(device),label.to(device)\n",
        "  output=model(input.view(batch_size,-1))\n",
        "  _,predicted=torch.max(output,1)\n",
        "  total+=label.size(0)\n",
        "  correct+=(predicted==label).sum()\n",
        "\n",
        "accuracy=100*(correct/total)\n",
        "print(accuracy)"
      ],
      "metadata": {
        "colab": {
          "base_uri": "https://localhost:8080/"
        },
        "id": "QgIiKvbDMy2W",
        "outputId": "397dced7-fa61-4729-a589-210b23edf5a8"
      },
      "execution_count": null,
      "outputs": [
        {
          "output_type": "stream",
          "name": "stdout",
          "text": [
            "tensor(95.6950, device='cuda:0')\n"
          ]
        }
      ]
    },
    {
      "cell_type": "markdown",
      "source": [
        "**Practice**"
      ],
      "metadata": {
        "id": "FL6PdMdCXcOA"
      }
    },
    {
      "cell_type": "code",
      "source": [
        "import torch\n",
        "import torch.nn as nn\n",
        "import matplotlib.pyplot as plt\n",
        "from torch.utils.data import DataLoader,Dataset,random_split\n",
        "import torchvision.datasets as datasets\n",
        "from torchvision.transforms import ToTensor\n",
        "\n",
        "device=('cuda' if torch.cuda.is_available() else 'cpu')\n",
        "\n",
        "train_set=datasets.MNIST(root='./data',train=True,download=True,transform=ToTensor())\n",
        "test_set=datasets.MNIST(root='./data',train=False,download=True,transform=ToTensor())\n",
        "\n",
        "batch_size=4\n",
        "\n",
        "train_data=DataLoader(train_set,batch_size=batch_size,shuffle=True)\n",
        "test_data=DataLoader(test_set,batch_size=batch_size,shuffle=False)\n",
        "\n",
        "input,label=next(iter(train_data))\n",
        "plt.imshow(input[0].resize(28,28),cmap='gray')\n",
        "\n",
        "class MNISTClassifier(nn.Module):\n",
        "  def __init__(self):\n",
        "    super(MNISTClassifier,self).__init__()\n",
        "    self.net=nn.Sequential(\n",
        "        nn.Linear(784,100,bias=True),\n",
        "        nn.Sigmoid(),\n",
        "        nn.Linear(100,100,bias=True),\n",
        "        nn.Sigmoid(),\n",
        "        nn.Linear(100,10,bias=True)\n",
        "    )\n",
        "  def forward(self,x):\n",
        "      return self.net(x)\n",
        "\n",
        "model=MNISTClassifier().to(device)\n",
        "optimizer=torch.optim.SGD(model.parameters(),lr=0.001)\n",
        "loss_fn=nn.CrossEntropyLoss()\n",
        "\n",
        "\n",
        "def train_one_epoch():\n",
        "  total_loss=0\n",
        "  for i, data in enumerate(train_data):\n",
        "    input,label=data\n",
        "    input,label=input.to(device),label.to(device)\n",
        "    optimizer.zero_grad()\n",
        "    output=model(input.view(batch_size,-1))\n",
        "    loss=loss_fn(output,label)\n",
        "    loss.backward()\n",
        "    optimizer.step()\n",
        "    total_loss+=loss\n",
        "  return total_loss/len(train_data)\n",
        "\n",
        "for i in range(10):\n",
        "  model.train(True)\n",
        "  res=train_one_epoch()\n",
        "  model.eval()\n",
        "  print('epoch: ',i+1,' loss: ',res)\n",
        "\n",
        "correct=0\n",
        "total=0\n",
        "for i,data in enumerate(test_data):\n",
        "  input,label=data\n",
        "  input=input.to(device)\n",
        "  label=label.to(device)\n",
        "  output=model(input.view(batch_size,-1))\n",
        "  _,predicted=torch.max(output,1)\n",
        "  total+=label.size(0)\n",
        "  correct+=(predicted==label).sum()\n",
        "print(correct/total*100)\n"
      ],
      "metadata": {
        "colab": {
          "base_uri": "https://localhost:8080/"
        },
        "id": "2pyRe_7NQEDm",
        "outputId": "16ee5e50-3f88-497d-e27b-f2a2852f4f6e"
      },
      "execution_count": null,
      "outputs": [
        {
          "output_type": "stream",
          "name": "stderr",
          "text": [
            "/usr/local/lib/python3.10/dist-packages/torch/_tensor.py:836: UserWarning: non-inplace resize is deprecated\n",
            "  warnings.warn(\"non-inplace resize is deprecated\")\n"
          ]
        },
        {
          "output_type": "stream",
          "name": "stdout",
          "text": [
            "epoch:  1  loss:  tensor(2.3000, device='cuda:0', grad_fn=<DivBackward0>)\n"
          ]
        }
      ]
    },
    {
      "cell_type": "code",
      "source": [],
      "metadata": {
        "id": "xuOvp51LjaMM"
      },
      "execution_count": null,
      "outputs": []
    },
    {
      "cell_type": "code",
      "source": [],
      "metadata": {
        "id": "G-qZW5mwizoq"
      },
      "execution_count": null,
      "outputs": []
    },
    {
      "cell_type": "code",
      "source": [],
      "metadata": {
        "id": "5bZzYpSof0uV"
      },
      "execution_count": null,
      "outputs": []
    },
    {
      "cell_type": "code",
      "source": [],
      "metadata": {
        "id": "AFl4YNXfb_CP"
      },
      "execution_count": null,
      "outputs": []
    },
    {
      "cell_type": "code",
      "source": [],
      "metadata": {
        "id": "5GyckjTfaEIl"
      },
      "execution_count": null,
      "outputs": []
    },
    {
      "cell_type": "code",
      "source": [],
      "metadata": {
        "id": "zfNe1NCZZVT_"
      },
      "execution_count": null,
      "outputs": []
    },
    {
      "cell_type": "code",
      "source": [],
      "metadata": {
        "id": "AMRkjsq8ZSH1"
      },
      "execution_count": null,
      "outputs": []
    },
    {
      "cell_type": "code",
      "source": [],
      "metadata": {
        "id": "PhcgTL8eZQC8"
      },
      "execution_count": null,
      "outputs": []
    },
    {
      "cell_type": "code",
      "source": [],
      "metadata": {
        "id": "omvhAOxtLVUL"
      },
      "execution_count": null,
      "outputs": []
    },
    {
      "cell_type": "code",
      "source": [],
      "metadata": {
        "id": "GJQpQMlvLTX6"
      },
      "execution_count": null,
      "outputs": []
    },
    {
      "cell_type": "code",
      "source": [],
      "metadata": {
        "id": "dqHY7PyYLR9M"
      },
      "execution_count": null,
      "outputs": []
    },
    {
      "cell_type": "code",
      "source": [],
      "metadata": {
        "id": "GyfnwzyNK_Rl"
      },
      "execution_count": null,
      "outputs": []
    },
    {
      "cell_type": "code",
      "source": [],
      "metadata": {
        "id": "jRnk45ALK41O"
      },
      "execution_count": null,
      "outputs": []
    },
    {
      "cell_type": "code",
      "source": [],
      "metadata": {
        "id": "-SVzSnSHKwy_"
      },
      "execution_count": null,
      "outputs": []
    },
    {
      "cell_type": "code",
      "source": [],
      "metadata": {
        "id": "EPsyM4GcJGnY"
      },
      "execution_count": null,
      "outputs": []
    },
    {
      "cell_type": "code",
      "source": [],
      "metadata": {
        "id": "WuVnTniaIgjl"
      },
      "execution_count": null,
      "outputs": []
    },
    {
      "cell_type": "code",
      "source": [],
      "metadata": {
        "id": "QzLFy197E2KQ"
      },
      "execution_count": null,
      "outputs": []
    },
    {
      "cell_type": "code",
      "source": [],
      "metadata": {
        "id": "PEY3oKeOFQ61"
      },
      "execution_count": null,
      "outputs": []
    },
    {
      "cell_type": "code",
      "source": [],
      "metadata": {
        "id": "q-vQ-0kIFPqc"
      },
      "execution_count": null,
      "outputs": []
    },
    {
      "cell_type": "code",
      "source": [],
      "metadata": {
        "id": "3gOMIdD_Etya"
      },
      "execution_count": null,
      "outputs": []
    },
    {
      "cell_type": "code",
      "source": [],
      "metadata": {
        "id": "aSzSh27dErk8"
      },
      "execution_count": null,
      "outputs": []
    },
    {
      "cell_type": "code",
      "source": [],
      "metadata": {
        "id": "s1P47n5OEomr"
      },
      "execution_count": null,
      "outputs": []
    },
    {
      "cell_type": "code",
      "source": [],
      "metadata": {
        "id": "oOLkcFpeEiyS"
      },
      "execution_count": null,
      "outputs": []
    },
    {
      "cell_type": "code",
      "source": [],
      "metadata": {
        "id": "zStnCjHtEdX1"
      },
      "execution_count": null,
      "outputs": []
    },
    {
      "cell_type": "code",
      "source": [],
      "metadata": {
        "id": "siFb8yXZEYo0"
      },
      "execution_count": null,
      "outputs": []
    },
    {
      "cell_type": "code",
      "source": [],
      "metadata": {
        "id": "wwClkedlD8x6"
      },
      "execution_count": null,
      "outputs": []
    },
    {
      "cell_type": "code",
      "source": [],
      "metadata": {
        "id": "aiQQQ-eJDQsE"
      },
      "execution_count": null,
      "outputs": []
    },
    {
      "cell_type": "code",
      "source": [],
      "metadata": {
        "id": "6Zg8M192DOd3"
      },
      "execution_count": null,
      "outputs": []
    },
    {
      "cell_type": "code",
      "source": [],
      "metadata": {
        "id": "cCHICCZvDJs2"
      },
      "execution_count": null,
      "outputs": []
    },
    {
      "cell_type": "code",
      "source": [],
      "metadata": {
        "id": "Y5Gpv7I5CWv7"
      },
      "execution_count": null,
      "outputs": []
    },
    {
      "cell_type": "code",
      "source": [],
      "metadata": {
        "id": "VK8QChCr9Wsb"
      },
      "execution_count": null,
      "outputs": []
    },
    {
      "cell_type": "code",
      "source": [],
      "metadata": {
        "id": "SOsfbOdN9VoE"
      },
      "execution_count": null,
      "outputs": []
    },
    {
      "cell_type": "code",
      "source": [],
      "metadata": {
        "id": "1pth-yPT9Tuz"
      },
      "execution_count": null,
      "outputs": []
    },
    {
      "cell_type": "code",
      "source": [],
      "metadata": {
        "id": "AFqPtEEb9Mvh"
      },
      "execution_count": null,
      "outputs": []
    },
    {
      "cell_type": "code",
      "source": [],
      "metadata": {
        "id": "6v6RMaQ36jlx"
      },
      "execution_count": null,
      "outputs": []
    },
    {
      "cell_type": "code",
      "source": [],
      "metadata": {
        "id": "MH2o0UFT5dMw"
      },
      "execution_count": null,
      "outputs": []
    },
    {
      "cell_type": "code",
      "source": [],
      "metadata": {
        "id": "ObDmHdHu3k8S"
      },
      "execution_count": null,
      "outputs": []
    },
    {
      "cell_type": "code",
      "source": [],
      "metadata": {
        "id": "XN6vkvES3f0y"
      },
      "execution_count": null,
      "outputs": []
    },
    {
      "cell_type": "code",
      "source": [],
      "metadata": {
        "id": "TzUBKZmlWfZz"
      },
      "execution_count": null,
      "outputs": []
    },
    {
      "cell_type": "code",
      "source": [],
      "metadata": {
        "id": "3J6LE7CTGzbX"
      },
      "execution_count": null,
      "outputs": []
    },
    {
      "cell_type": "code",
      "source": [],
      "metadata": {
        "id": "LQK8tQk5FTjK",
        "colab": {
          "base_uri": "https://localhost:8080/"
        },
        "outputId": "56171b6e-38bb-4a1a-81b6-9c4d67762f84"
      },
      "execution_count": null,
      "outputs": [
        {
          "output_type": "stream",
          "name": "stdout",
          "text": [
            "tensor([1.0000], grad_fn=<ViewBackward0>)\n"
          ]
        }
      ]
    },
    {
      "cell_type": "code",
      "source": [],
      "metadata": {
        "id": "yu2xawkcEhKi"
      },
      "execution_count": null,
      "outputs": []
    },
    {
      "cell_type": "code",
      "source": [],
      "metadata": {
        "id": "4ARYTBhwDHwn"
      },
      "execution_count": null,
      "outputs": []
    },
    {
      "cell_type": "code",
      "source": [],
      "metadata": {
        "id": "P5GLnPD6BTwQ"
      },
      "execution_count": null,
      "outputs": []
    },
    {
      "cell_type": "code",
      "source": [],
      "metadata": {
        "id": "lghEUbyz_8e9"
      },
      "execution_count": null,
      "outputs": []
    },
    {
      "cell_type": "code",
      "source": [],
      "metadata": {
        "id": "QRcYa68y_6kC"
      },
      "execution_count": null,
      "outputs": []
    },
    {
      "cell_type": "code",
      "source": [],
      "metadata": {
        "id": "s865K-zy-enK"
      },
      "execution_count": null,
      "outputs": []
    },
    {
      "cell_type": "code",
      "source": [],
      "metadata": {
        "id": "RvgLlYl8-YGZ"
      },
      "execution_count": null,
      "outputs": []
    },
    {
      "cell_type": "code",
      "source": [],
      "metadata": {
        "id": "WidzYWJF-TpJ"
      },
      "execution_count": null,
      "outputs": []
    },
    {
      "cell_type": "code",
      "source": [],
      "metadata": {
        "id": "3RbtQ1MI7kP3"
      },
      "execution_count": null,
      "outputs": []
    },
    {
      "cell_type": "code",
      "source": [],
      "metadata": {
        "id": "H9ioP6IB9rQf"
      },
      "execution_count": null,
      "outputs": []
    },
    {
      "cell_type": "code",
      "source": [],
      "metadata": {
        "id": "O4lpLmm600o_"
      },
      "execution_count": null,
      "outputs": []
    },
    {
      "cell_type": "code",
      "source": [],
      "metadata": {
        "id": "-6aaEax00r4K"
      },
      "execution_count": null,
      "outputs": []
    },
    {
      "cell_type": "code",
      "source": [],
      "metadata": {
        "id": "l4JJY7v-0qbp"
      },
      "execution_count": null,
      "outputs": []
    },
    {
      "cell_type": "code",
      "source": [],
      "metadata": {
        "id": "R3l499jXxWwI"
      },
      "execution_count": null,
      "outputs": []
    }
  ]
}