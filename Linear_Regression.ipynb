{
  "nbformat": 4,
  "nbformat_minor": 0,
  "metadata": {
    "colab": {
      "provenance": []
    },
    "kernelspec": {
      "name": "python3",
      "display_name": "Python 3"
    },
    "language_info": {
      "name": "python"
    }
  },
  "cells": [
    {
      "cell_type": "code",
      "execution_count": null,
      "metadata": {
        "id": "rLFpYvW1Yknr"
      },
      "outputs": [],
      "source": [
        "import torch\n",
        "from torch.utils.data import Dataset,DataLoader\n",
        "from torch.utils.data import random_split\n",
        "import torch.nn as nn\n",
        "from torch.optim import SGD"
      ]
    },
    {
      "cell_type": "code",
      "source": [
        "device=('cuda' if torch.cuda.is_available() else 'cpu')\n",
        "device"
      ],
      "metadata": {
        "colab": {
          "base_uri": "https://localhost:8080/",
          "height": 35
        },
        "id": "g9hwW0arZCaG",
        "outputId": "b962599e-5259-4d20-abf7-9ae212cbdaa6"
      },
      "execution_count": null,
      "outputs": [
        {
          "output_type": "execute_result",
          "data": {
            "text/plain": [
              "'cpu'"
            ],
            "application/vnd.google.colaboratory.intrinsic+json": {
              "type": "string"
            }
          },
          "metadata": {},
          "execution_count": 3
        }
      ]
    },
    {
      "cell_type": "code",
      "source": [
        "#y=wx+b\n",
        "w=torch.tensor([3.0],requires_grad=True)\n",
        "x=torch.tensor([4],dtype=torch.float32)\n",
        "b=torch.tensor([5],requires_grad=True,dtype=torch.float32)"
      ],
      "metadata": {
        "id": "ulxVVW9AZNFD"
      },
      "execution_count": null,
      "outputs": []
    },
    {
      "cell_type": "code",
      "source": [
        "y=w*x+b\n",
        "y.backward()"
      ],
      "metadata": {
        "id": "Q5fFkq0LbphI"
      },
      "execution_count": null,
      "outputs": []
    },
    {
      "cell_type": "code",
      "source": [
        "print(x.grad,w.grad,b.grad)"
      ],
      "metadata": {
        "colab": {
          "base_uri": "https://localhost:8080/"
        },
        "id": "ZwB3fQSCcMn2",
        "outputId": "de267bba-a7bf-4000-fcf8-730d3131cd89"
      },
      "execution_count": null,
      "outputs": [
        {
          "output_type": "stream",
          "name": "stdout",
          "text": [
            "None tensor([4.]) tensor([1.])\n"
          ]
        }
      ]
    },
    {
      "cell_type": "code",
      "source": [
        "#z=log(3*x**2+5*x*y)\n",
        "x=torch.tensor([2.0],requires_grad=True)\n",
        "y=torch.tensor([3.0],requires_grad=True)\n",
        "z=torch.log(3*x**2+5*x*y)\n",
        "z.backward()\n",
        "print(x.grad,y.grad)"
      ],
      "metadata": {
        "colab": {
          "base_uri": "https://localhost:8080/"
        },
        "id": "ib8jiL9XcSqm",
        "outputId": "8cc4e423-b054-4b54-a761-9a07a089ba50"
      },
      "execution_count": null,
      "outputs": [
        {
          "output_type": "stream",
          "name": "stdout",
          "text": [
            "tensor([0.6429]) tensor([0.2381])\n"
          ]
        }
      ]
    },
    {
      "cell_type": "code",
      "source": [
        "x=torch.tensor([2.0],requires_grad=True)\n",
        "y=torch.tensor([3.0],requires_grad=True)\n",
        "a=x\n",
        "a.retain_grad()\n",
        "b=3*a**2\n",
        "b.retain_grad()\n",
        "c=y\n",
        "c.retain_grad()\n",
        "d=5*a*c\n",
        "d.retain_grad()\n",
        "e=b+d\n",
        "e.retain_grad()\n",
        "z=torch.log(e)\n",
        "z.retain_grad()\n",
        "z.backward()\n",
        "print(x.grad,y.grad)"
      ],
      "metadata": {
        "colab": {
          "base_uri": "https://localhost:8080/"
        },
        "id": "xI1PWmvhkSL0",
        "outputId": "a42eb544-a0cf-4429-8911-0253c375ded9"
      },
      "execution_count": null,
      "outputs": [
        {
          "output_type": "stream",
          "name": "stdout",
          "text": [
            "tensor([0.6429]) tensor([0.2381])\n"
          ]
        }
      ]
    },
    {
      "cell_type": "markdown",
      "source": [
        "For the following training data, build a linear regression model. Assume w and\n",
        "b are\n",
        "initialized with 1 and learning parameter is set to 0.001.\n",
        "x = torch.tensor( [12.4, 14.3, 14.5, 14.9, 16.1, 16.9, 16.5, 15.4, 17.0, 17.9, 18.8, 20.3, 22.4,\n",
        "19.4, 15.5, 16.7, 17.3, 18.4, 19.2, 17.4, 19.5, 19.7, 21.2])\n",
        "y = torch.tensor( [11.2, 12.5, 12.7, 13.1, 14.1, 14.8, 14.4, 13.4, 14.9, 15.6, 16.4, 17.7, 19.6,\n",
        "16.9, 14.0, 14.6, 15.1, 16.1, 16.8, 15.2, 17.0, 17.2, 18.6])\n",
        "Assume learning rate =0.001. Plot the graph of epoch in x axis and loss in y axis."
      ],
      "metadata": {
        "id": "opWobiiu4n9e"
      }
    },
    {
      "cell_type": "code",
      "source": [
        "x = torch.tensor( [12.4, 14.3, 14.5, 14.9, 16.1, 16.9, 16.5, 15.4, 17.0, 17.9, 18.8, 20.3, 22.4, 19.4, 15.5, 16.7, 17.3, 18.4, 19.2, 17.4, 19.5, 19.7, 21.2])\n",
        "y = torch.tensor( [11.2, 12.5, 12.7, 13.1, 14.1, 14.8, 14.4, 13.4, 14.9, 15.6, 16.4, 17.7, 19.6, 16.9, 14.0, 14.6, 15.1, 16.1, 16.8, 15.2, 17.0, 17.2, 18.6])\n",
        "\n",
        "epochs=10\n",
        "alpha=0.001\n",
        "\n",
        "def forward(x):\n",
        "  return w*x+b\n",
        "\n",
        "w=torch.tensor([1.0],requires_grad=True)\n",
        "b=torch.tensor([1.0],requires_grad=True)\n",
        "\n",
        "for _ in range(epochs):\n",
        "  error=0\n",
        "  for i in range(len(x)):\n",
        "    y_pred=forward(x[i])\n",
        "    error+=(y[i]-y_pred)**2\n",
        "  loss=error/len(x)\n",
        "  loss.backward()\n",
        "  with torch.no_grad():\n",
        "    w-=alpha*w.grad\n",
        "    b-=alpha*b.grad\n",
        "  w.grad.zero_()\n",
        "  b.grad.zero_()\n",
        "  print(w,b,loss.item())\n"
      ],
      "metadata": {
        "colab": {
          "base_uri": "https://localhost:8080/"
        },
        "id": "BEE2kf1YsK-1",
        "outputId": "5545f87f-9033-4ee6-da62-22ace2714fb2"
      },
      "execution_count": null,
      "outputs": [
        {
          "output_type": "stream",
          "name": "stdout",
          "text": [
            "tensor([0.8878], requires_grad=True) tensor([0.9937], requires_grad=True) 10.153912544250488\n",
            "tensor([0.8455], requires_grad=True) tensor([0.9913], requires_grad=True) 1.4566774368286133\n",
            "tensor([0.8296], requires_grad=True) tensor([0.9904], requires_grad=True) 0.2217213660478592\n",
            "tensor([0.8236], requires_grad=True) tensor([0.9900], requires_grad=True) 0.04636411741375923\n",
            "tensor([0.8213], requires_grad=True) tensor([0.9899], requires_grad=True) 0.021464206278324127\n",
            "tensor([0.8204], requires_grad=True) tensor([0.9898], requires_grad=True) 0.017928214743733406\n",
            "tensor([0.8201], requires_grad=True) tensor([0.9897], requires_grad=True) 0.017425701022148132\n",
            "tensor([0.8200], requires_grad=True) tensor([0.9897], requires_grad=True) 0.01735403947532177\n",
            "tensor([0.8200], requires_grad=True) tensor([0.9897], requires_grad=True) 0.0173435527831316\n",
            "tensor([0.8199], requires_grad=True) tensor([0.9897], requires_grad=True) 0.017341721802949905\n"
          ]
        }
      ]
    },
    {
      "cell_type": "code",
      "source": [],
      "metadata": {
        "id": "mr5xy_C0DS_9"
      },
      "execution_count": null,
      "outputs": []
    },
    {
      "cell_type": "code",
      "source": [],
      "metadata": {
        "id": "wJekCFvXDQUm"
      },
      "execution_count": null,
      "outputs": []
    },
    {
      "cell_type": "markdown",
      "source": [
        "Revise the linear regression model by defining a user defined class titled RegressionModel\n",
        "with two parameters w and b as its member variables. Define a constructor to initialize w\n",
        "and b with value 1. Define four member functions namely forward(x) to implement wx+b,\n",
        "update() to update w and b values, reset_grad() to reset parameters to zero, criterion(y, yp)\n",
        "to implement MSE Loss given the predicted y value yp and the target label y. Define an\n",
        "object of this class named model and invoke all the methods. Plot the graph of epoch vs\n",
        "loss by varying epoch to 100 iterations.\n",
        "\n",
        "x = torch.tensor([5.0, 7.0, 12.0, 16.0, 20.0])\n",
        "y = torch.tensor([40.0, 120.0, 180.0, 210.0, 240.0])\n",
        "learning_rate = torch.tensor(0.001)\n"
      ],
      "metadata": {
        "id": "i0uUPh1oP4Ap"
      }
    },
    {
      "cell_type": "code",
      "source": [
        "x = torch.tensor( [12.4, 14.3, 14.5, 14.9, 16.1, 16.9, 16.5, 15.4, 17.0, 17.9, 18.8, 20.3, 22.4, 19.4, 15.5, 16.7, 17.3, 18.4, 19.2, 17.4, 19.5, 19.7, 21.2])\n",
        "y = torch.tensor( [11.2, 12.5, 12.7, 13.1, 14.1, 14.8, 14.4, 13.4, 14.9, 15.6, 16.4, 17.7, 19.6, 16.9, 14.0, 14.6, 15.1, 16.1, 16.8, 15.2, 17.0, 17.2, 18.6])\n",
        "\n",
        "learning_rate = torch.tensor(0.001)\n",
        "\n",
        "class LinearRegression:\n",
        "  def __init__(self):\n",
        "    self.w=torch.rand([1],requires_grad=True)\n",
        "    self.b=torch.rand([1],requires_grad=True)\n",
        "  def forward(self,x):\n",
        "    return self.w*x+self.b\n",
        "  def update(self):\n",
        "    self.w-=learning_rate*self.w.grad\n",
        "    self.b-=learning_rate*self.b.grad\n",
        "  def grad_zero(self):\n",
        "    self.w.grad.zero_()\n",
        "    self.b.grad.zero_()\n",
        "  def criterion(self,y,y_pred):\n",
        "    return (y-y_pred)**2\n",
        "\n",
        "def one_epoch(model):\n",
        "  error=0\n",
        "  for i in range(len(x)):\n",
        "    y_pred=model.forward(x[i])\n",
        "    error+=model.criterion(y[i],y_pred)\n",
        "  loss=error/len(x)\n",
        "  loss.backward()\n",
        "  with torch.no_grad():\n",
        "    model.update()\n",
        "  model.grad_zero()\n",
        "  print(model.w,model.b,loss.item())\n",
        "\n",
        "model=LinearRegression()\n",
        "\n",
        "for _ in range(10):\n",
        "  one_epoch(model)\n",
        "\n",
        "\n",
        "\n",
        "\n"
      ],
      "metadata": {
        "colab": {
          "base_uri": "https://localhost:8080/"
        },
        "id": "4Myf4_GbLkTL",
        "outputId": "beaf1a39-9c06-407c-f40a-a5d5f63105e8"
      },
      "execution_count": null,
      "outputs": [
        {
          "output_type": "stream",
          "name": "stdout",
          "text": [
            "tensor([0.7761], requires_grad=True) tensor([0.2725], requires_grad=True) 15.48741340637207\n",
            "tensor([0.8284], requires_grad=True) tensor([0.2754], requires_grad=True) 2.20963716506958\n",
            "tensor([0.8481], requires_grad=True) tensor([0.2765], requires_grad=True) 0.3242711126804352\n",
            "tensor([0.8555], requires_grad=True) tensor([0.2770], requires_grad=True) 0.0565607026219368\n",
            "tensor([0.8583], requires_grad=True) tensor([0.2771], requires_grad=True) 0.018547389656305313\n",
            "tensor([0.8594], requires_grad=True) tensor([0.2772], requires_grad=True) 0.013149707578122616\n",
            "tensor([0.8598], requires_grad=True) tensor([0.2772], requires_grad=True) 0.012383215129375458\n",
            "tensor([0.8599], requires_grad=True) tensor([0.2772], requires_grad=True) 0.012274383567273617\n",
            "tensor([0.8600], requires_grad=True) tensor([0.2772], requires_grad=True) 0.012258881703019142\n",
            "tensor([0.8600], requires_grad=True) tensor([0.2772], requires_grad=True) 0.01225667167454958\n"
          ]
        }
      ]
    },
    {
      "cell_type": "markdown",
      "source": [
        "Convert your program written in Qn 3 to extend nn.module in your model. Also override\n",
        "the necessary methods to fit the regression line. Illustrate the use of Dataset and DataLoader\n",
        "from torch.utils.data in your implementation. Use the SGD Optimizer torch.optim.SGD()\n"
      ],
      "metadata": {
        "id": "pVu4yPADdgcv"
      }
    },
    {
      "cell_type": "code",
      "source": [
        "\n",
        "x = torch.tensor( [12.4, 14.3, 14.5, 14.9, 16.1, 16.9, 16.5, 15.4, 17.0, 17.9, 18.8, 20.3, 22.4, 19.4, 15.5, 16.7, 17.3, 18.4, 19.2, 17.4, 19.5, 19.7, 21.2])\n",
        "y = torch.tensor( [11.2, 12.5, 12.7, 13.1, 14.1, 14.8, 14.4, 13.4, 14.9, 15.6, 16.4, 17.7, 19.6, 16.9, 14.0, 14.6, 15.1, 16.1, 16.8, 15.2, 17.0, 17.2, 18.6])\n",
        "\n",
        "device=('cuda' if torch.cuda.is_available() else 'cpu')\n",
        "\n",
        "class MyDataset(Dataset):\n",
        "  def __init__(self,x,y):\n",
        "    self.x=x\n",
        "    self.y=y\n",
        "  def __len__(self):\n",
        "    return len(self.x)\n",
        "  def __getitem__(self,idx):\n",
        "    return self.x[idx].to(device),self.y[idx].to(device)\n",
        "\n",
        "dataset=MyDataset(x,y)\n",
        "\n",
        "train_size=int(0.8*len(x))\n",
        "test_size=len(x)-train_size\n",
        "\n",
        "train_data,test_data=random_split(dataset,[train_size,test_size])\n",
        "\n",
        "train_set=DataLoader(train_data,batch_size=1,shuffle=True)\n",
        "test_set=DataLoader(test_data,batch_size=1,shuffle=False)\n",
        "\n",
        "\n",
        "class LinearRegression(nn.Module):\n",
        "  def __init__(self):\n",
        "    super().__init__()\n",
        "    self.w=torch.nn.Parameter(torch.rand([1]))\n",
        "    self.b=torch.nn.Parameter(torch.rand([1]))\n",
        "  def forward(self,x):\n",
        "    return self.w*x+self.b\n",
        "\n",
        "model=LinearRegression()\n",
        "loss=nn.MSELoss()\n",
        "optimizer=SGD(model.parameters(),lr=0.001)\n",
        "\n",
        "\n",
        "def one_epoch():\n",
        "  error=0\n",
        "  for i,data in enumerate(train_set):\n",
        "    input,label=data\n",
        "    optimizer.zero_grad()\n",
        "    output=model(input)\n",
        "    loss1=loss(output,label)\n",
        "    loss1.backward()\n",
        "    optimizer.step()\n",
        "    error+=loss1.item()\n",
        "  return error/len(train_set)\n",
        "print(\"Initial parameters:\", [p.data for p in model.parameters()])\n",
        "\n",
        "for _ in range (10):\n",
        "  avg_loss=one_epoch()\n",
        "  print(avg_loss)\n",
        "\n",
        "\n",
        "print(\"Updated parameters:\", [p.data for p in model.parameters()])"
      ],
      "metadata": {
        "colab": {
          "base_uri": "https://localhost:8080/"
        },
        "id": "uxyCYqdVXSTo",
        "outputId": "56da7b54-17ce-4b2f-f845-fea814164993"
      },
      "execution_count": null,
      "outputs": [
        {
          "output_type": "stream",
          "name": "stdout",
          "text": [
            "Initial parameters: [tensor([0.2117]), tensor([0.5646])]\n",
            "7.806949597729828\n",
            "0.022136433801279054\n",
            "0.02067436209189408\n",
            "0.02061143436569384\n",
            "0.022871193155879155\n",
            "0.021448425980957433\n",
            "0.019722158447418932\n",
            "0.02128152635648601\n",
            "0.02099112931318814\n",
            "0.021170544418257324\n",
            "Updated parameters: [tensor([0.8482]), tensor([0.6023])]\n"
          ]
        }
      ]
    },
    {
      "cell_type": "code",
      "source": [
        "import torch\n",
        "import torch.nn as nn\n",
        "from torch.utils.data import Dataset,DataLoader,random_split\n",
        "\n",
        "x = torch.tensor( [12.4, 14.3, 14.5, 14.9, 16.1, 16.9, 16.5, 15.4, 17.0, 17.9, 18.8, 20.3, 22.4, 19.4, 15.5, 16.7, 17.3, 18.4, 19.2, 17.4, 19.5, 19.7, 21.2])\n",
        "y = torch.tensor( [11.2, 12.5, 12.7, 13.1, 14.1, 14.8, 14.4, 13.4, 14.9, 15.6, 16.4, 17.7, 19.6, 16.9, 14.0, 14.6, 15.1, 16.1, 16.8, 15.2, 17.0, 17.2, 18.6])\n",
        "\n",
        "class mydataset(Dataset):\n",
        "  def __init__(self,x,y):\n",
        "    self.x=x\n",
        "    self.y=y\n",
        "  def __len__(self):\n",
        "    return len(self.x)\n",
        "  def __getitem__(self,idx):\n",
        "    return self.x[idx].to(device),self.y[idx].to(device)\n",
        "\n",
        "dataset=mydataset(x,y)\n",
        "train_size=int(0.7*len(x))\n",
        "test_size=len(x)-train_size\n",
        "train_set,test_set=random_split(dataset,[train_size,test_size])\n",
        "\n",
        "\n",
        "train_data=DataLoader(train_set,batch_size=1,shuffle=True)\n",
        "test_data=DataLoader(test_set,batch_size=1,shuffle=False)\n",
        "\n",
        "\n",
        "\n",
        "class LinearRegression(nn.Module):\n",
        "  def __init__(self):\n",
        "    super().__init__()\n",
        "    self.linear=nn.Linear(1,1)\n",
        "  def forward(self,x):\n",
        "    return self.linear(x)\n",
        "\n",
        "model=LinearRegression()\n",
        "loss_fn=nn.MSELoss()\n",
        "optimizer=torch.optim.SGD(model.parameters(),lr=0.001)\n",
        "\n",
        "def one_epoch():\n",
        "  total_loss=0\n",
        "  for i,(input,label) in enumerate(train_data):\n",
        "    optimizer.zero_grad()\n",
        "    output=model(input)\n",
        "    loss=loss_fn(output,label)\n",
        "    loss.backward()\n",
        "    optimizer.step()\n",
        "    total_loss+=loss.item()\n",
        "  return total_loss/len(train_data)\n",
        "\n",
        "for _ in range(10):\n",
        "  res=one_epoch()\n",
        "  print(res,[p.data for p in model.parameters()])\n"
      ],
      "metadata": {
        "colab": {
          "base_uri": "https://localhost:8080/"
        },
        "id": "xayCGwP306EA",
        "outputId": "c87f0424-16b6-48d3-e33f-0c0effa61761"
      },
      "execution_count": null,
      "outputs": [
        {
          "output_type": "stream",
          "name": "stdout",
          "text": [
            "4.859565337847016 [tensor([[0.8903]]), tensor([-0.3636])]\n",
            "0.021480010194864008 [tensor([[0.8941]]), tensor([-0.3629])]\n",
            "0.023787314224136935 [tensor([[0.8973]]), tensor([-0.3622])]\n",
            "0.024705253563297447 [tensor([[0.8980]]), tensor([-0.3616])]\n",
            "0.023219144004542613 [tensor([[0.8965]]), tensor([-0.3613])]\n",
            "0.022224110866773117 [tensor([[0.8904]]), tensor([-0.3611])]\n",
            "0.02501293554064432 [tensor([[0.8905]]), tensor([-0.3606])]\n",
            "0.024996934049568154 [tensor([[0.8970]]), tensor([-0.3598])]\n",
            "0.022019064701453317 [tensor([[0.8950]]), tensor([-0.3594])]\n",
            "0.027375550467695575 [tensor([[0.8970]]), tensor([-0.3586])]\n"
          ]
        }
      ]
    },
    {
      "cell_type": "code",
      "source": [],
      "metadata": {
        "id": "hfJ5AxWON7er"
      },
      "execution_count": null,
      "outputs": []
    },
    {
      "cell_type": "code",
      "source": [],
      "metadata": {
        "id": "_LjN2GXiN3ca"
      },
      "execution_count": null,
      "outputs": []
    },
    {
      "cell_type": "code",
      "source": [],
      "metadata": {
        "id": "pBbU1H8CNDSJ"
      },
      "execution_count": null,
      "outputs": []
    },
    {
      "cell_type": "code",
      "source": [],
      "metadata": {
        "id": "0wPNfbjlDojQ"
      },
      "execution_count": null,
      "outputs": []
    },
    {
      "cell_type": "code",
      "source": [],
      "metadata": {
        "id": "ieSaBDWUDCMR"
      },
      "execution_count": null,
      "outputs": []
    },
    {
      "cell_type": "code",
      "source": [],
      "metadata": {
        "id": "dv9_ffcaC8qO"
      },
      "execution_count": null,
      "outputs": []
    },
    {
      "cell_type": "code",
      "source": [],
      "metadata": {
        "id": "kE8tLdyo-jN6"
      },
      "execution_count": null,
      "outputs": []
    },
    {
      "cell_type": "code",
      "source": [],
      "metadata": {
        "id": "9jQ-Fhpt-a8v"
      },
      "execution_count": null,
      "outputs": []
    },
    {
      "cell_type": "code",
      "source": [],
      "metadata": {
        "id": "h4zjopXb-Tzc"
      },
      "execution_count": null,
      "outputs": []
    },
    {
      "cell_type": "code",
      "source": [],
      "metadata": {
        "id": "r6RxCMuU99DS"
      },
      "execution_count": null,
      "outputs": []
    },
    {
      "cell_type": "code",
      "source": [],
      "metadata": {
        "id": "EbkyBFfG95rx"
      },
      "execution_count": null,
      "outputs": []
    },
    {
      "cell_type": "code",
      "source": [],
      "metadata": {
        "id": "4MvCgwDI9zRu"
      },
      "execution_count": null,
      "outputs": []
    },
    {
      "cell_type": "code",
      "source": [],
      "metadata": {
        "id": "KocCFXGH9qfX"
      },
      "execution_count": null,
      "outputs": []
    },
    {
      "cell_type": "code",
      "source": [],
      "metadata": {
        "id": "Eia3CgHv9nvn"
      },
      "execution_count": null,
      "outputs": []
    },
    {
      "cell_type": "code",
      "source": [],
      "metadata": {
        "id": "MQhfZPOd9QBw"
      },
      "execution_count": null,
      "outputs": []
    },
    {
      "cell_type": "code",
      "source": [],
      "metadata": {
        "id": "Ejk0XnBL8_Rd"
      },
      "execution_count": null,
      "outputs": []
    },
    {
      "cell_type": "code",
      "source": [],
      "metadata": {
        "id": "7-Fu8wsJ5j5E"
      },
      "execution_count": null,
      "outputs": []
    },
    {
      "cell_type": "code",
      "source": [],
      "metadata": {
        "id": "DPJrSY6T5Twz"
      },
      "execution_count": null,
      "outputs": []
    },
    {
      "cell_type": "code",
      "source": [],
      "metadata": {
        "id": "8lBky-CC4EwY"
      },
      "execution_count": null,
      "outputs": []
    },
    {
      "cell_type": "code",
      "source": [],
      "metadata": {
        "id": "7jW7J43H34g4"
      },
      "execution_count": null,
      "outputs": []
    },
    {
      "cell_type": "code",
      "source": [],
      "metadata": {
        "id": "0BuI9HaQ32x0"
      },
      "execution_count": null,
      "outputs": []
    },
    {
      "cell_type": "code",
      "source": [],
      "metadata": {
        "id": "39X3Nr_x0jwF"
      },
      "execution_count": null,
      "outputs": []
    },
    {
      "cell_type": "code",
      "source": [],
      "metadata": {
        "id": "Qa3Q4TTw0ci6"
      },
      "execution_count": null,
      "outputs": []
    },
    {
      "cell_type": "code",
      "source": [],
      "metadata": {
        "id": "rZ0wkk440Hbw"
      },
      "execution_count": null,
      "outputs": []
    },
    {
      "cell_type": "code",
      "source": [
        "\n",
        "\n"
      ],
      "metadata": {
        "id": "nPdz6M1dnKan"
      },
      "execution_count": null,
      "outputs": []
    },
    {
      "cell_type": "code",
      "source": [],
      "metadata": {
        "id": "37G8aTpsp0oA"
      },
      "execution_count": null,
      "outputs": []
    },
    {
      "cell_type": "code",
      "source": [],
      "metadata": {
        "id": "oezYiexyzpIs"
      },
      "execution_count": null,
      "outputs": []
    },
    {
      "cell_type": "code",
      "source": [],
      "metadata": {
        "id": "Xxgc5OAYsVfV"
      },
      "execution_count": null,
      "outputs": []
    },
    {
      "cell_type": "code",
      "source": [],
      "metadata": {
        "id": "t9iBf5PC0Gac"
      },
      "execution_count": null,
      "outputs": []
    },
    {
      "cell_type": "code",
      "source": [],
      "metadata": {
        "id": "nxr5xImxz-1a"
      },
      "execution_count": null,
      "outputs": []
    },
    {
      "cell_type": "code",
      "source": [],
      "metadata": {
        "id": "jtk2qLaAz7J2"
      },
      "execution_count": null,
      "outputs": []
    },
    {
      "cell_type": "code",
      "source": [],
      "metadata": {
        "id": "YjpXK3YMz19C"
      },
      "execution_count": null,
      "outputs": []
    },
    {
      "cell_type": "code",
      "source": [],
      "metadata": {
        "id": "Bbd1UNYYzvdQ"
      },
      "execution_count": null,
      "outputs": []
    },
    {
      "cell_type": "code",
      "source": [],
      "metadata": {
        "id": "T0bagz9GzpyA"
      },
      "execution_count": null,
      "outputs": []
    },
    {
      "cell_type": "code",
      "source": [],
      "metadata": {
        "id": "NQk5SS3hycts"
      },
      "execution_count": null,
      "outputs": []
    },
    {
      "cell_type": "code",
      "source": [],
      "metadata": {
        "id": "nK6tX6cYyagO"
      },
      "execution_count": null,
      "outputs": []
    },
    {
      "cell_type": "code",
      "source": [],
      "metadata": {
        "id": "JdT2gEvAx-QK"
      },
      "execution_count": null,
      "outputs": []
    },
    {
      "cell_type": "code",
      "source": [],
      "metadata": {
        "id": "euqXvY8Dx6Z8"
      },
      "execution_count": null,
      "outputs": []
    },
    {
      "cell_type": "code",
      "source": [],
      "metadata": {
        "id": "NYpJati0xzkY"
      },
      "execution_count": null,
      "outputs": []
    },
    {
      "cell_type": "code",
      "source": [],
      "metadata": {
        "id": "hETPD5rdxxnY"
      },
      "execution_count": null,
      "outputs": []
    },
    {
      "cell_type": "code",
      "source": [],
      "metadata": {
        "id": "VOZoDTTkxff2"
      },
      "execution_count": null,
      "outputs": []
    },
    {
      "cell_type": "code",
      "source": [],
      "metadata": {
        "colab": {
          "base_uri": "https://localhost:8080/",
          "height": 321
        },
        "id": "CiTQxUnMwHXA",
        "outputId": "7a34a728-82a7-4ebf-df37-90664e2fa0d0"
      },
      "execution_count": null,
      "outputs": [
        {
          "output_type": "error",
          "ename": "AttributeError",
          "evalue": "'list' object has no attribute 'size'",
          "traceback": [
            "\u001b[0;31m---------------------------------------------------------------------------\u001b[0m",
            "\u001b[0;31mAttributeError\u001b[0m                            Traceback (most recent call last)",
            "\u001b[0;32m<ipython-input-83-ce7495569169>\u001b[0m in \u001b[0;36m<cell line: 1>\u001b[0;34m()\u001b[0m\n\u001b[1;32m      1\u001b[0m \u001b[0;32mfor\u001b[0m \u001b[0m_\u001b[0m \u001b[0;32min\u001b[0m \u001b[0mrange\u001b[0m \u001b[0;34m(\u001b[0m\u001b[0;36m10\u001b[0m\u001b[0;34m)\u001b[0m\u001b[0;34m:\u001b[0m\u001b[0;34m\u001b[0m\u001b[0;34m\u001b[0m\u001b[0m\n\u001b[0;32m----> 2\u001b[0;31m   \u001b[0mres\u001b[0m\u001b[0;34m=\u001b[0m\u001b[0mone_epoch\u001b[0m\u001b[0;34m(\u001b[0m\u001b[0;34m)\u001b[0m\u001b[0;34m\u001b[0m\u001b[0;34m\u001b[0m\u001b[0m\n\u001b[0m\u001b[1;32m      3\u001b[0m   \u001b[0mprint\u001b[0m\u001b[0;34m(\u001b[0m\u001b[0mres\u001b[0m\u001b[0;34m)\u001b[0m\u001b[0;34m\u001b[0m\u001b[0;34m\u001b[0m\u001b[0m\n",
            "\u001b[0;32m<ipython-input-82-ee62fd0a9407>\u001b[0m in \u001b[0;36mone_epoch\u001b[0;34m()\u001b[0m\n\u001b[1;32m      5\u001b[0m     \u001b[0moptimizer\u001b[0m\u001b[0;34m.\u001b[0m\u001b[0mzero_grad\u001b[0m\u001b[0;34m(\u001b[0m\u001b[0;34m)\u001b[0m\u001b[0;34m\u001b[0m\u001b[0;34m\u001b[0m\u001b[0m\n\u001b[1;32m      6\u001b[0m     \u001b[0moutput\u001b[0m\u001b[0;34m=\u001b[0m\u001b[0mmodel\u001b[0m\u001b[0;34m(\u001b[0m\u001b[0minput\u001b[0m\u001b[0;34m)\u001b[0m\u001b[0;34m\u001b[0m\u001b[0;34m\u001b[0m\u001b[0m\n\u001b[0;32m----> 7\u001b[0;31m     \u001b[0mloss1\u001b[0m\u001b[0;34m=\u001b[0m\u001b[0mloss\u001b[0m\u001b[0;34m(\u001b[0m\u001b[0moutput\u001b[0m\u001b[0;34m,\u001b[0m\u001b[0mdata\u001b[0m\u001b[0;34m)\u001b[0m\u001b[0;34m\u001b[0m\u001b[0;34m\u001b[0m\u001b[0m\n\u001b[0m\u001b[1;32m      8\u001b[0m     \u001b[0mloss1\u001b[0m\u001b[0;34m.\u001b[0m\u001b[0mbackward\u001b[0m\u001b[0;34m(\u001b[0m\u001b[0;34m)\u001b[0m\u001b[0;34m\u001b[0m\u001b[0;34m\u001b[0m\u001b[0m\n\u001b[1;32m      9\u001b[0m     \u001b[0moptimizer\u001b[0m\u001b[0;34m.\u001b[0m\u001b[0mstep\u001b[0m\u001b[0;34m(\u001b[0m\u001b[0;34m)\u001b[0m\u001b[0;34m\u001b[0m\u001b[0;34m\u001b[0m\u001b[0m\n",
            "\u001b[0;32m/usr/local/lib/python3.10/dist-packages/torch/nn/modules/module.py\u001b[0m in \u001b[0;36m_wrapped_call_impl\u001b[0;34m(self, *args, **kwargs)\u001b[0m\n\u001b[1;32m   1516\u001b[0m             \u001b[0;32mreturn\u001b[0m \u001b[0mself\u001b[0m\u001b[0;34m.\u001b[0m\u001b[0m_compiled_call_impl\u001b[0m\u001b[0;34m(\u001b[0m\u001b[0;34m*\u001b[0m\u001b[0margs\u001b[0m\u001b[0;34m,\u001b[0m \u001b[0;34m**\u001b[0m\u001b[0mkwargs\u001b[0m\u001b[0;34m)\u001b[0m  \u001b[0;31m# type: ignore[misc]\u001b[0m\u001b[0;34m\u001b[0m\u001b[0;34m\u001b[0m\u001b[0m\n\u001b[1;32m   1517\u001b[0m         \u001b[0;32melse\u001b[0m\u001b[0;34m:\u001b[0m\u001b[0;34m\u001b[0m\u001b[0;34m\u001b[0m\u001b[0m\n\u001b[0;32m-> 1518\u001b[0;31m             \u001b[0;32mreturn\u001b[0m \u001b[0mself\u001b[0m\u001b[0;34m.\u001b[0m\u001b[0m_call_impl\u001b[0m\u001b[0;34m(\u001b[0m\u001b[0;34m*\u001b[0m\u001b[0margs\u001b[0m\u001b[0;34m,\u001b[0m \u001b[0;34m**\u001b[0m\u001b[0mkwargs\u001b[0m\u001b[0;34m)\u001b[0m\u001b[0;34m\u001b[0m\u001b[0;34m\u001b[0m\u001b[0m\n\u001b[0m\u001b[1;32m   1519\u001b[0m \u001b[0;34m\u001b[0m\u001b[0m\n\u001b[1;32m   1520\u001b[0m     \u001b[0;32mdef\u001b[0m \u001b[0m_call_impl\u001b[0m\u001b[0;34m(\u001b[0m\u001b[0mself\u001b[0m\u001b[0;34m,\u001b[0m \u001b[0;34m*\u001b[0m\u001b[0margs\u001b[0m\u001b[0;34m,\u001b[0m \u001b[0;34m**\u001b[0m\u001b[0mkwargs\u001b[0m\u001b[0;34m)\u001b[0m\u001b[0;34m:\u001b[0m\u001b[0;34m\u001b[0m\u001b[0;34m\u001b[0m\u001b[0m\n",
            "\u001b[0;32m/usr/local/lib/python3.10/dist-packages/torch/nn/modules/module.py\u001b[0m in \u001b[0;36m_call_impl\u001b[0;34m(self, *args, **kwargs)\u001b[0m\n\u001b[1;32m   1525\u001b[0m                 \u001b[0;32mor\u001b[0m \u001b[0m_global_backward_pre_hooks\u001b[0m \u001b[0;32mor\u001b[0m \u001b[0m_global_backward_hooks\u001b[0m\u001b[0;34m\u001b[0m\u001b[0;34m\u001b[0m\u001b[0m\n\u001b[1;32m   1526\u001b[0m                 or _global_forward_hooks or _global_forward_pre_hooks):\n\u001b[0;32m-> 1527\u001b[0;31m             \u001b[0;32mreturn\u001b[0m \u001b[0mforward_call\u001b[0m\u001b[0;34m(\u001b[0m\u001b[0;34m*\u001b[0m\u001b[0margs\u001b[0m\u001b[0;34m,\u001b[0m \u001b[0;34m**\u001b[0m\u001b[0mkwargs\u001b[0m\u001b[0;34m)\u001b[0m\u001b[0;34m\u001b[0m\u001b[0;34m\u001b[0m\u001b[0m\n\u001b[0m\u001b[1;32m   1528\u001b[0m \u001b[0;34m\u001b[0m\u001b[0m\n\u001b[1;32m   1529\u001b[0m         \u001b[0;32mtry\u001b[0m\u001b[0;34m:\u001b[0m\u001b[0;34m\u001b[0m\u001b[0;34m\u001b[0m\u001b[0m\n",
            "\u001b[0;32m/usr/local/lib/python3.10/dist-packages/torch/nn/modules/loss.py\u001b[0m in \u001b[0;36mforward\u001b[0;34m(self, input, target)\u001b[0m\n\u001b[1;32m    533\u001b[0m \u001b[0;34m\u001b[0m\u001b[0m\n\u001b[1;32m    534\u001b[0m     \u001b[0;32mdef\u001b[0m \u001b[0mforward\u001b[0m\u001b[0;34m(\u001b[0m\u001b[0mself\u001b[0m\u001b[0;34m,\u001b[0m \u001b[0minput\u001b[0m\u001b[0;34m:\u001b[0m \u001b[0mTensor\u001b[0m\u001b[0;34m,\u001b[0m \u001b[0mtarget\u001b[0m\u001b[0;34m:\u001b[0m \u001b[0mTensor\u001b[0m\u001b[0;34m)\u001b[0m \u001b[0;34m->\u001b[0m \u001b[0mTensor\u001b[0m\u001b[0;34m:\u001b[0m\u001b[0;34m\u001b[0m\u001b[0;34m\u001b[0m\u001b[0m\n\u001b[0;32m--> 535\u001b[0;31m         \u001b[0;32mreturn\u001b[0m \u001b[0mF\u001b[0m\u001b[0;34m.\u001b[0m\u001b[0mmse_loss\u001b[0m\u001b[0;34m(\u001b[0m\u001b[0minput\u001b[0m\u001b[0;34m,\u001b[0m \u001b[0mtarget\u001b[0m\u001b[0;34m,\u001b[0m \u001b[0mreduction\u001b[0m\u001b[0;34m=\u001b[0m\u001b[0mself\u001b[0m\u001b[0;34m.\u001b[0m\u001b[0mreduction\u001b[0m\u001b[0;34m)\u001b[0m\u001b[0;34m\u001b[0m\u001b[0;34m\u001b[0m\u001b[0m\n\u001b[0m\u001b[1;32m    536\u001b[0m \u001b[0;34m\u001b[0m\u001b[0m\n\u001b[1;32m    537\u001b[0m \u001b[0;34m\u001b[0m\u001b[0m\n",
            "\u001b[0;32m/usr/local/lib/python3.10/dist-packages/torch/nn/functional.py\u001b[0m in \u001b[0;36mmse_loss\u001b[0;34m(input, target, size_average, reduce, reduction)\u001b[0m\n\u001b[1;32m   3316\u001b[0m             \u001b[0mmse_loss\u001b[0m\u001b[0;34m,\u001b[0m \u001b[0;34m(\u001b[0m\u001b[0minput\u001b[0m\u001b[0;34m,\u001b[0m \u001b[0mtarget\u001b[0m\u001b[0;34m)\u001b[0m\u001b[0;34m,\u001b[0m \u001b[0minput\u001b[0m\u001b[0;34m,\u001b[0m \u001b[0mtarget\u001b[0m\u001b[0;34m,\u001b[0m \u001b[0msize_average\u001b[0m\u001b[0;34m=\u001b[0m\u001b[0msize_average\u001b[0m\u001b[0;34m,\u001b[0m \u001b[0mreduce\u001b[0m\u001b[0;34m=\u001b[0m\u001b[0mreduce\u001b[0m\u001b[0;34m,\u001b[0m \u001b[0mreduction\u001b[0m\u001b[0;34m=\u001b[0m\u001b[0mreduction\u001b[0m\u001b[0;34m\u001b[0m\u001b[0;34m\u001b[0m\u001b[0m\n\u001b[1;32m   3317\u001b[0m         )\n\u001b[0;32m-> 3318\u001b[0;31m     \u001b[0;32mif\u001b[0m \u001b[0;32mnot\u001b[0m \u001b[0;34m(\u001b[0m\u001b[0mtarget\u001b[0m\u001b[0;34m.\u001b[0m\u001b[0msize\u001b[0m\u001b[0;34m(\u001b[0m\u001b[0;34m)\u001b[0m \u001b[0;34m==\u001b[0m \u001b[0minput\u001b[0m\u001b[0;34m.\u001b[0m\u001b[0msize\u001b[0m\u001b[0;34m(\u001b[0m\u001b[0;34m)\u001b[0m\u001b[0;34m)\u001b[0m\u001b[0;34m:\u001b[0m\u001b[0;34m\u001b[0m\u001b[0;34m\u001b[0m\u001b[0m\n\u001b[0m\u001b[1;32m   3319\u001b[0m         warnings.warn(\n\u001b[1;32m   3320\u001b[0m             \u001b[0;34mf\"Using a target size ({target.size()}) that is different to the input size ({input.size()}). \"\u001b[0m\u001b[0;34m\u001b[0m\u001b[0;34m\u001b[0m\u001b[0m\n",
            "\u001b[0;31mAttributeError\u001b[0m: 'list' object has no attribute 'size'"
          ]
        }
      ]
    },
    {
      "cell_type": "code",
      "source": [],
      "metadata": {
        "id": "PyLYVd33xgC8"
      },
      "execution_count": null,
      "outputs": []
    },
    {
      "cell_type": "code",
      "source": [],
      "metadata": {
        "id": "W6Bz1spExXJU"
      },
      "execution_count": null,
      "outputs": []
    },
    {
      "cell_type": "code",
      "source": [],
      "metadata": {
        "id": "M9SoMrWjwgxK"
      },
      "execution_count": null,
      "outputs": []
    },
    {
      "cell_type": "code",
      "source": [],
      "metadata": {
        "id": "6cnzIo1OweQo"
      },
      "execution_count": null,
      "outputs": []
    },
    {
      "cell_type": "code",
      "source": [],
      "metadata": {
        "id": "UWg2oSV1ujnO"
      },
      "execution_count": null,
      "outputs": []
    },
    {
      "cell_type": "code",
      "source": [],
      "metadata": {
        "id": "F7UGdu4stx-L"
      },
      "execution_count": null,
      "outputs": []
    },
    {
      "cell_type": "code",
      "source": [],
      "metadata": {
        "id": "4tF3z_xMtuGi"
      },
      "execution_count": null,
      "outputs": []
    },
    {
      "cell_type": "code",
      "source": [],
      "metadata": {
        "id": "HQKcunnisUU8"
      },
      "execution_count": null,
      "outputs": []
    },
    {
      "cell_type": "code",
      "source": [],
      "metadata": {
        "id": "qJga0DLxsPb9"
      },
      "execution_count": null,
      "outputs": []
    },
    {
      "cell_type": "code",
      "source": [],
      "metadata": {
        "id": "uPaV-uIgrpqm"
      },
      "execution_count": null,
      "outputs": []
    },
    {
      "cell_type": "code",
      "source": [],
      "metadata": {
        "id": "oEz2DzHCrkmG"
      },
      "execution_count": null,
      "outputs": []
    },
    {
      "cell_type": "code",
      "source": [],
      "metadata": {
        "id": "mpT7T7l3rf1t"
      },
      "execution_count": null,
      "outputs": []
    },
    {
      "cell_type": "code",
      "source": [],
      "metadata": {
        "id": "jogXUiSNnHld"
      },
      "execution_count": null,
      "outputs": []
    },
    {
      "cell_type": "code",
      "source": [],
      "metadata": {
        "id": "6E-rpP18nDpP"
      },
      "execution_count": null,
      "outputs": []
    },
    {
      "cell_type": "code",
      "source": [],
      "metadata": {
        "id": "nmBYCai8mb1F"
      },
      "execution_count": null,
      "outputs": []
    },
    {
      "cell_type": "code",
      "source": [],
      "metadata": {
        "id": "DD-a-B_Lkbdn"
      },
      "execution_count": null,
      "outputs": []
    },
    {
      "cell_type": "code",
      "source": [],
      "metadata": {
        "id": "w53qqISekZwv"
      },
      "execution_count": null,
      "outputs": []
    },
    {
      "cell_type": "code",
      "source": [],
      "metadata": {
        "id": "hvUizh93jeLl"
      },
      "execution_count": null,
      "outputs": []
    },
    {
      "cell_type": "code",
      "source": [],
      "metadata": {
        "id": "sVrV--DpjEVT"
      },
      "execution_count": null,
      "outputs": []
    },
    {
      "cell_type": "code",
      "source": [],
      "metadata": {
        "id": "aXQZnIJkiWFP"
      },
      "execution_count": null,
      "outputs": []
    },
    {
      "cell_type": "code",
      "source": [],
      "metadata": {
        "id": "IS2mJVQwiURX"
      },
      "execution_count": null,
      "outputs": []
    },
    {
      "cell_type": "code",
      "source": [],
      "metadata": {
        "id": "Voul419DgQ3-"
      },
      "execution_count": null,
      "outputs": []
    },
    {
      "cell_type": "code",
      "source": [],
      "metadata": {
        "id": "4xp-JAX_fzh7"
      },
      "execution_count": null,
      "outputs": []
    },
    {
      "cell_type": "code",
      "source": [],
      "metadata": {
        "id": "-5a5QW93WYLT"
      },
      "execution_count": null,
      "outputs": []
    },
    {
      "cell_type": "code",
      "source": [],
      "metadata": {
        "id": "EZ17C_lfWMfd"
      },
      "execution_count": null,
      "outputs": []
    },
    {
      "cell_type": "code",
      "source": [],
      "metadata": {
        "id": "EiFruZ9-WH_X"
      },
      "execution_count": null,
      "outputs": []
    },
    {
      "cell_type": "code",
      "source": [],
      "metadata": {
        "id": "FTDNWddYWFL7"
      },
      "execution_count": null,
      "outputs": []
    },
    {
      "cell_type": "code",
      "source": [],
      "metadata": {
        "id": "78axk8L2LhUD"
      },
      "execution_count": null,
      "outputs": []
    },
    {
      "cell_type": "code",
      "source": [],
      "metadata": {
        "id": "SepWwTq2F5-a"
      },
      "execution_count": null,
      "outputs": []
    },
    {
      "cell_type": "code",
      "source": [],
      "metadata": {
        "id": "pvSdElz9F3qq"
      },
      "execution_count": null,
      "outputs": []
    },
    {
      "cell_type": "code",
      "source": [],
      "metadata": {
        "id": "ixLWNx0zF0-m"
      },
      "execution_count": null,
      "outputs": []
    },
    {
      "cell_type": "code",
      "source": [],
      "metadata": {
        "id": "_uykw6TkD8RI"
      },
      "execution_count": null,
      "outputs": []
    },
    {
      "cell_type": "code",
      "source": [],
      "metadata": {
        "id": "c6XBlWhYDxdr"
      },
      "execution_count": null,
      "outputs": []
    },
    {
      "cell_type": "code",
      "source": [],
      "metadata": {
        "id": "JGz0q7hCDsP3"
      },
      "execution_count": null,
      "outputs": []
    },
    {
      "cell_type": "code",
      "source": [],
      "metadata": {
        "id": "NBrPj6KLDKVE"
      },
      "execution_count": null,
      "outputs": []
    },
    {
      "cell_type": "code",
      "source": [],
      "metadata": {
        "id": "ht8JSl-ODG59"
      },
      "execution_count": null,
      "outputs": []
    },
    {
      "cell_type": "code",
      "source": [],
      "metadata": {
        "id": "-74EpYtoDAW4"
      },
      "execution_count": null,
      "outputs": []
    },
    {
      "cell_type": "code",
      "source": [],
      "metadata": {
        "id": "ucntqrSvCwp6"
      },
      "execution_count": null,
      "outputs": []
    },
    {
      "cell_type": "code",
      "source": [],
      "metadata": {
        "id": "D5Fqy8BzCuqw"
      },
      "execution_count": null,
      "outputs": []
    },
    {
      "cell_type": "code",
      "source": [],
      "metadata": {
        "id": "Sr8nae--Cl9I"
      },
      "execution_count": null,
      "outputs": []
    },
    {
      "cell_type": "code",
      "source": [],
      "metadata": {
        "id": "5LDZpyclCfsX"
      },
      "execution_count": null,
      "outputs": []
    },
    {
      "cell_type": "code",
      "source": [],
      "metadata": {
        "id": "fP8AEwqSCRkE"
      },
      "execution_count": null,
      "outputs": []
    },
    {
      "cell_type": "code",
      "source": [],
      "metadata": {
        "id": "amBH_3urCMjY"
      },
      "execution_count": null,
      "outputs": []
    },
    {
      "cell_type": "code",
      "source": [],
      "metadata": {
        "id": "MxH96toSBjap"
      },
      "execution_count": null,
      "outputs": []
    },
    {
      "cell_type": "code",
      "source": [],
      "metadata": {
        "id": "W8cSX7ARA4yn"
      },
      "execution_count": null,
      "outputs": []
    },
    {
      "cell_type": "code",
      "source": [],
      "metadata": {
        "id": "lOgi2x0tAhR6"
      },
      "execution_count": null,
      "outputs": []
    },
    {
      "cell_type": "code",
      "source": [],
      "metadata": {
        "id": "JeqYENevAacs"
      },
      "execution_count": null,
      "outputs": []
    },
    {
      "cell_type": "code",
      "source": [],
      "metadata": {
        "id": "xg99ePmpkPh4"
      },
      "execution_count": null,
      "outputs": []
    },
    {
      "cell_type": "code",
      "source": [],
      "metadata": {
        "id": "O1AEh7Esbm_6"
      },
      "execution_count": null,
      "outputs": []
    },
    {
      "cell_type": "code",
      "source": [],
      "metadata": {
        "id": "Inf_grlxa2my"
      },
      "execution_count": null,
      "outputs": []
    },
    {
      "cell_type": "code",
      "source": [],
      "metadata": {
        "id": "PKFsPTTAaqXy"
      },
      "execution_count": null,
      "outputs": []
    },
    {
      "cell_type": "code",
      "source": [],
      "metadata": {
        "id": "_E1miKTmaoG_"
      },
      "execution_count": null,
      "outputs": []
    },
    {
      "cell_type": "code",
      "source": [],
      "metadata": {
        "id": "gR13vrScZKtp"
      },
      "execution_count": null,
      "outputs": []
    }
  ]
}