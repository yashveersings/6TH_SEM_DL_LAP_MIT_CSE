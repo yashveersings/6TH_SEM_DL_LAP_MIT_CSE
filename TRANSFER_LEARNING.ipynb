{
  "nbformat": 4,
  "nbformat_minor": 0,
  "metadata": {
    "colab": {
      "provenance": [],
      "machine_shape": "hm",
      "gpuType": "A100"
    },
    "kernelspec": {
      "name": "python3",
      "display_name": "Python 3"
    },
    "language_info": {
      "name": "python"
    },
    "accelerator": "GPU"
  },
  "cells": [
    {
      "cell_type": "code",
      "execution_count": null,
      "metadata": {
        "id": "emCEtDMfnoIE"
      },
      "outputs": [],
      "source": [
        "import torch\n",
        "import torch.nn as nn\n",
        "import torchvision.datasets as datasets\n",
        "from torchvision.transforms import ToTensor\n",
        "from torch.utils.data import DataLoader\n",
        "import matplotlib.pyplot as plt\n",
        "\n",
        "train_data=datasets.MNIST(root='./data',transform=ToTensor(),train=True,download=True)\n",
        "test_data=datasets.FashionMNIST(root='./data',transform=ToTensor(),train=False,download=True)\n",
        "\n",
        "batch_size=4\n",
        "train_loader=DataLoader(train_data,shuffle=True,batch_size=batch_size)\n",
        "test_loader=DataLoader(test_data,shuffle=False,batch_size=batch_size)\n",
        "\n",
        "image,label = next(iter(train_loader))\n",
        "plt.imshow(image[0].resize(28,28),cmap='gray')\n",
        "\n",
        "class CNNModel(nn.Module):\n",
        "  def __init__(self):\n",
        "    super(CNNModel,self).__init__()\n",
        "    self.net=nn.Sequential(\n",
        "        nn.Conv2d(1,64,kernel_size=3),\n",
        "        nn.ReLU(),\n",
        "        nn.MaxPool2d((2,2),stride=2),\n",
        "        nn.Conv2d(64,128,kernel_size=3),\n",
        "        nn.ReLU(),\n",
        "        nn.MaxPool2d((2,2),stride=2),\n",
        "        nn.Conv2d(128,64,kernel_size=3),\n",
        "        nn.ReLU(),\n",
        "        nn.MaxPool2d((2,2),stride=2)\n",
        "    )\n",
        "    self.classification_head=nn.Sequential(\n",
        "        nn.Linear(64,20,bias=True),\n",
        "        nn.Sigmoid(),\n",
        "        nn.Linear(20,10,bias=True)\n",
        "    )\n",
        "  def forward(self,x):\n",
        "    conv_output=self.net(x)\n",
        "    x=self.classification_head(conv_output.view(batch_size,-1))\n",
        "    return x\n",
        "\n",
        "device='cuda'\n",
        "model=CNNModel().to(device)\n",
        "optimizer=torch.optim.Adam(model.parameters(),lr=0.001)\n",
        "loss_fn=torch.nn.CrossEntropyLoss()\n",
        "\n",
        "#total number of parameters\n",
        "total_param=sum([p.numel() for p in model.parameters() if p.requires_grad])\n",
        "total_param\n",
        "\n",
        "def train_one_epoch():\n",
        "  total_loss=0\n",
        "  for i,(input,label) in enumerate(train_loader):\n",
        "    input,label=input.to(device),label.to(device)\n",
        "    optimizer.zero_grad()\n",
        "    output=model(input)\n",
        "    loss=loss_fn(output,label)\n",
        "    loss.backward()\n",
        "    optimizer.step()\n",
        "    loss+=loss.item()\n",
        "  return loss/len(train_loader)\n",
        "\n",
        "for i in range(10):\n",
        "  model.train()\n",
        "  res=train_one_epoch()\n",
        "  print(res)\n",
        "\n",
        "print('Models state dict: ')\n",
        "for keys in model.state_dict().keys():\n",
        "  print(keys,'/t',model.state_dict()[keys])\n",
        "\n",
        "print('optimizer state dict')\n",
        "for keys in optimizer.state_dict().keys():\n",
        "  print(keys,'\\t',optimizer.state_dict()[keys])\n",
        "\n",
        "torch.save(model,\".model.pt\")\n",
        "model=CNNModel()\n",
        "model=torch.load(\".model.pt\")\n",
        "model.to(device)\n",
        "\n",
        "count=0\n",
        "correct=0\n",
        "model.eval()\n",
        "for i,(input,label) in enumerate(test_loader):\n",
        "  input=input.to(device)\n",
        "  label=label.to(device)\n",
        "  output=model(input)\n",
        "  _,predicted=torch.max(output,1)\n",
        "  count+=label.size(0)\n",
        "  correct+=(predicted==label).sum()\n",
        "acc=(correct/count)*100\n",
        "print(acc)"
      ]
    },
    {
      "cell_type": "code",
      "source": [
        "import torch\n",
        "import torch.nn as nn\n",
        "import torchvision.datasets as datasets\n",
        "from torch.utils.data import DataLoader\n",
        "from torchvision.transforms import ToTensor\n",
        "\n",
        "batch_size=4\n",
        "\n",
        "device='cuda'\n",
        "\n",
        "train_set=datasets.MNIST(root='./data',transform=ToTensor(),train=True,download=True)\n",
        "test_set=datasets.FashionMNIST(root='./data',transform=ToTensor(),train=False,download=True)\n",
        "\n",
        "train_loader=DataLoader(train_set,batch_size=batch_size,shuffle=True)\n",
        "test_loader=DataLoader(test_set,batch_size=batch_size,shuffle=False)\n",
        "\n",
        "class CNN(nn.Module):\n",
        "  def __init__(self):\n",
        "    super(CNN,self).__init__()\n",
        "    self.net=nn.Sequential(\n",
        "        nn.Conv2d(1,64,kernel_size=3),\n",
        "        nn.ReLU(),\n",
        "        nn.MaxPool2d((2,2),stride=2),\n",
        "        nn.Conv2d(64,128,kernel_size=3),\n",
        "        nn.ReLU(),\n",
        "        nn.MaxPool2d((2,2),stride=2),\n",
        "        nn.Conv2d(128,64,kernel_size=3),\n",
        "        nn.ReLU(),\n",
        "        nn.MaxPool2d((2,2),stride=2)\n",
        "    )\n",
        "    self.activation_head=nn.Sequential(\n",
        "        nn.Linear(64,20,bias=True),\n",
        "        nn.Sigmoid(),\n",
        "        nn.Linear(20,10,bias=True)\n",
        "    )\n",
        "  def forward(self,x):\n",
        "    y=self.net(x)\n",
        "    return self.activation_head(y.view(batch_size,-1))\n",
        "\n",
        "model=CNN().to(device)\n",
        "optimizer=torch.optim.SGD(model.parameters(),lr=0.001)\n",
        "loss_fn=nn.CrossEntropyLoss()\n",
        "\n",
        "\n",
        "breaker=0\n",
        "for i in range(10):\n",
        "  breaker+=1\n",
        "  loss_list=[]\n",
        "  for _,(input,label) in enumerate(train_loader):\n",
        "    input=input.to(device)\n",
        "    label=label.to(device)\n",
        "    optimizer.zero_grad()\n",
        "    output=model(input)\n",
        "    loss=loss_fn(output,label)\n",
        "    loss.backward()\n",
        "    optimizer.step()\n",
        "    loss_list.append(loss.item())\n",
        "  if breaker==2:\n",
        "    break\n",
        "\n"
      ],
      "metadata": {
        "id": "U1AgwTx_GYmB"
      },
      "execution_count": null,
      "outputs": []
    },
    {
      "cell_type": "code",
      "source": [
        "checkpoint={'loss':loss_list[-1],'epoch':breaker,'model_state_dict':model.state_dict(),'optimizer_state_dict':optimizer.state_dict()}\n",
        "torch.save(checkpoint,'./checkpoint.pt')\n",
        "model=CNN().to(device)\n",
        "cp=torch.load('./checkpoint.pt')\n",
        "optimizer=nn.CrossEntropyLoss()\n",
        "optimizer.load_state_dict(cp['optimizer_state_dict'])\n",
        "epoch=cp['epoch']\n",
        "loss=cp['loss']"
      ],
      "metadata": {
        "id": "ouxpHEqlcDXx"
      },
      "execution_count": null,
      "outputs": []
    },
    {
      "cell_type": "code",
      "source": [
        "loss"
      ],
      "metadata": {
        "colab": {
          "base_uri": "https://localhost:8080/"
        },
        "id": "qBxAZ-Mxi8Og",
        "outputId": "76c57015-99ae-4ba1-fd96-3fa9aec3c2fe"
      },
      "execution_count": null,
      "outputs": [
        {
          "output_type": "execute_result",
          "data": {
            "text/plain": [
              "2.0650627613067627"
            ]
          },
          "metadata": {},
          "execution_count": 24
        }
      ]
    },
    {
      "cell_type": "code",
      "source": [
        "total=0\n",
        "correct=0\n",
        "for _,(input,label) in enumerate(test_loader):\n",
        "  input=input.to(device)\n",
        "  label=label.to(device)\n",
        "  output=model(input)\n",
        "  _,predicted=torch.max(output,1)\n",
        "  correct+=(label==predicted).sum()\n",
        "  total+=label.size(0)\n",
        "print(correct/total*100)"
      ],
      "metadata": {
        "colab": {
          "base_uri": "https://localhost:8080/"
        },
        "id": "8hCdvc9mZf5Y",
        "outputId": "36c2a314-50ed-4a7d-9031-ef2c35903eeb"
      },
      "execution_count": null,
      "outputs": [
        {
          "output_type": "stream",
          "name": "stdout",
          "text": [
            "tensor(7.3400, device='cuda:0')\n"
          ]
        }
      ]
    },
    {
      "cell_type": "code",
      "source": [],
      "metadata": {
        "id": "BYMreNdkb3Nu"
      },
      "execution_count": null,
      "outputs": []
    },
    {
      "cell_type": "code",
      "source": [],
      "metadata": {
        "id": "q85VNyqLZMbe"
      },
      "execution_count": null,
      "outputs": []
    },
    {
      "cell_type": "code",
      "source": [],
      "metadata": {
        "id": "pJS2OElEYYKD"
      },
      "execution_count": null,
      "outputs": []
    },
    {
      "cell_type": "code",
      "source": [],
      "metadata": {
        "id": "EPT-RW4pKucz"
      },
      "execution_count": null,
      "outputs": []
    },
    {
      "cell_type": "code",
      "source": [],
      "metadata": {
        "id": "V8lVhb5tKrHi"
      },
      "execution_count": null,
      "outputs": []
    },
    {
      "cell_type": "code",
      "source": [],
      "metadata": {
        "id": "W72KNbxCGPZ3"
      },
      "execution_count": null,
      "outputs": []
    },
    {
      "cell_type": "code",
      "source": [],
      "metadata": {
        "id": "ss0gfRcg7bGp"
      },
      "execution_count": null,
      "outputs": []
    },
    {
      "cell_type": "code",
      "source": [],
      "metadata": {
        "id": "EtSMKNOT7XyF"
      },
      "execution_count": null,
      "outputs": []
    },
    {
      "cell_type": "code",
      "source": [],
      "metadata": {
        "id": "4I8Jx6Tc6-Lf"
      },
      "execution_count": null,
      "outputs": []
    },
    {
      "cell_type": "code",
      "source": [],
      "metadata": {
        "id": "PtdFxkdg4TrY"
      },
      "execution_count": null,
      "outputs": []
    },
    {
      "cell_type": "code",
      "source": [],
      "metadata": {
        "id": "u5IZKJG-2RuP"
      },
      "execution_count": null,
      "outputs": []
    },
    {
      "cell_type": "code",
      "source": [],
      "metadata": {
        "id": "Z5r5YGNX2Ll-"
      },
      "execution_count": null,
      "outputs": []
    },
    {
      "cell_type": "code",
      "source": [],
      "metadata": {
        "id": "UUDjnt1jycmL"
      },
      "execution_count": null,
      "outputs": []
    }
  ]
}